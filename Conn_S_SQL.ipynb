{
 "cells": [
  {
   "cell_type": "code",
   "execution_count": 4,
   "metadata": {
    "collapsed": false
   },
   "outputs": [
    {
     "name": "stdout",
     "output_type": "stream",
     "text": [
      "Quieres ver apartamentos fuera de tu zona de escogencia?\n",
      "1\n"
     ]
    },
    {
     "data": {
      "text/html": [
       "<pre>Finished parsing file C:\\Users\\user\\Documents\\Sistema de Recomendacion\\Single_Client_raw.csv</pre>"
      ],
      "text/plain": [
       "Finished parsing file C:\\Users\\user\\Documents\\Sistema de Recomendacion\\Single_Client_raw.csv"
      ]
     },
     "metadata": {},
     "output_type": "display_data"
    },
    {
     "data": {
      "text/html": [
       "<pre>Parsing completed. Parsed 1 lines in 0.02696 secs.</pre>"
      ],
      "text/plain": [
       "Parsing completed. Parsed 1 lines in 0.02696 secs."
      ]
     },
     "metadata": {},
     "output_type": "display_data"
    },
    {
     "name": "stdout",
     "output_type": "stream",
     "text": [
      "------------------------------------------------------\n",
      "Inferred types from first 100 line(s) of file as \n",
      "column_type_hints=[long,long,long,long,long,long,long,long,long,long,long,long,long,long,long]\n",
      "If parsing fails due to incorrect types, you can correct\n",
      "the inferred type list above and pass it to read_csv in\n",
      "the column_type_hints argument\n",
      "------------------------------------------------------\n"
     ]
    },
    {
     "data": {
      "text/html": [
       "<pre>Finished parsing file C:\\Users\\user\\Documents\\Sistema de Recomendacion\\Single_Client_raw.csv</pre>"
      ],
      "text/plain": [
       "Finished parsing file C:\\Users\\user\\Documents\\Sistema de Recomendacion\\Single_Client_raw.csv"
      ]
     },
     "metadata": {},
     "output_type": "display_data"
    },
    {
     "data": {
      "text/html": [
       "<pre>Parsing completed. Parsed 1 lines in 0.02892 secs.</pre>"
      ],
      "text/plain": [
       "Parsing completed. Parsed 1 lines in 0.02892 secs."
      ]
     },
     "metadata": {},
     "output_type": "display_data"
    },
    {
     "name": "stdout",
     "output_type": "stream",
     "text": [
      "Ingresa la zona donde quieres ver las viviendas mas populares ?\n",
      "4\n"
     ]
    },
    {
     "data": {
      "text/html": [
       "<pre>Recsys training: model = popularity</pre>"
      ],
      "text/plain": [
       "Recsys training: model = popularity"
      ]
     },
     "metadata": {},
     "output_type": "display_data"
    },
    {
     "data": {
      "text/html": [
       "<pre>Preparing data set.</pre>"
      ],
      "text/plain": [
       "Preparing data set."
      ]
     },
     "metadata": {},
     "output_type": "display_data"
    },
    {
     "data": {
      "text/html": [
       "<pre>    Data has 4 observations with 10 users and 41 items.</pre>"
      ],
      "text/plain": [
       "    Data has 4 observations with 10 users and 41 items."
      ]
     },
     "metadata": {},
     "output_type": "display_data"
    },
    {
     "data": {
      "text/html": [
       "<pre>    Data prepared in: 0.046874s</pre>"
      ],
      "text/plain": [
       "    Data prepared in: 0.046874s"
      ]
     },
     "metadata": {},
     "output_type": "display_data"
    },
    {
     "data": {
      "text/html": [
       "<pre>4 observations to process; with 41 unique items.</pre>"
      ],
      "text/plain": [
       "4 observations to process; with 41 unique items."
      ]
     },
     "metadata": {},
     "output_type": "display_data"
    }
   ],
   "source": [
    "import io, os, sys, types\n",
    "import graphlab as gl\n",
    "import mysql.connector\n",
    "from mysql.connector import errorcode\n",
    "import import_ipynb\n",
    "import Content_Based_Recommender as C_B_R\n",
    "import pyodbc\n",
    "import Conn_E_SQL as Conn\n",
    "import Creacion_Vectores as C_V\n",
    "import Normalizacion as Norm\n",
    "import Recommenders as Recom\n",
    "\n",
    "#Atributos de BD\n",
    "host=\"recomdb.c4v5c6aergun.us-west-2.rds.amazonaws.com\"\n",
    "user=\"imaginex\"\n",
    "passwd=\"6^b{X2Du)Qf6\"\n",
    "database=\"RecomDB\"\n",
    "table= \"CBF\"\n",
    "\n",
    "#Atributos de XML o consola\n",
    "\n",
    "Type=2\n",
    "\n",
    "#Atributos de Vivienda\n",
    "\n",
    "Vector_BD_Vivienda= Conn.Conexion_BD(host,user,passwd,database,table)\n",
    "apartment_file_processed= gl.SFrame(C_V.Creacion_Vector_Apartamento(Vector_BD_Vivienda))\n",
    "apartment_file_normalized=gl.SFrame(Norm.norm_apartment_matrix(apartment_file_processed))\n",
    "Vector_IDF=[]\n",
    "Vector_IDF=Norm.Inv_DF(apartment_file_processed)\n",
    "\n",
    "#Atributos de Cliente\n",
    "\n",
    "clientfile=\"C:\\\\Users\\\\user\\\\Documents\\\\Sistema de Recomendacion\\\\Single_Client_raw.csv\"\n",
    "client_file_processed=gl.SFrame(C_V.Creacion_Vector_Cliente(clientfile))\n",
    "client_array=client_file_processed[\"ID_C\"]\n",
    "client_number=client_array[0]\n",
    "zona_array=client_file_processed[\"Zona\"]\n",
    "zona_number=zona_array[0]\n",
    "\n",
    "#Atributos de Clientes\n",
    "\n",
    "Vector_Clientes_BD= Conn.Conexion_BD_clients (host, user, passwd, database, table)\n",
    "clients_SF_processed=gl.SFrame(C_V.Creacion_BD_Clientes(Vector_Clientes_BD))\n",
    "\n",
    "#Atributos de Rating\n",
    "\n",
    "Vector_Ratings_BD=Conn.Conexion_BD_rating(client_number, host, user, passwd, database, table)\n",
    "client_rating=C_V.Creacion_Matrix_Rating(Vector_Ratings_BD)\n",
    "\n",
    "#Atributos de Ratings\n",
    "\n",
    "Vector_Ratings_BD=Conn.Conexion_BD_ratings(host, user, passwd, database, table)\n",
    "clients_ratings=C_V.Creacion_Matrix_Rating(Vector_Ratings_BD)\n",
    "\n",
    "\n",
    "#Funcion para entrenar sistema de recomendacion segun el tipo que escoja el cliente\n",
    "\n",
    "def Recommender_Type (Type):\n",
    "    \n",
    "    Values=[]\n",
    "    \n",
    "    if Type==1:\n",
    "        \n",
    "        a=C_B_R.content_based_recommender()\n",
    "        b=C_B_R.content_based_recommender()\n",
    "        c=C_B_R.content_based_recommender()\n",
    "        d=C_B_R.content_based_recommender()\n",
    "        b=a.recommender_calculation(apartment_file_normalized,client_file_processed,Vector_IDF,client_number)\n",
    "        d=c.recommender_matrix(b, client_file_processed, client_number, apartment_file_processed,apartment_file_normalized)\n",
    "        for x,y,z in zip(d[\"ID_C\"],d[\"ID_V\"],d[\"Recommender_Score\"]):\n",
    "            cbr_Values=(x,y,z)\n",
    "            Values.append(cbr_Values)\n",
    "    \n",
    "    if Type==2:\n",
    "        e=Recom.recommenders()\n",
    "        f=e.item_ranking(apartment_file_processed,client_number,zona_number,client_rating)\n",
    "        for x,y,z in zip(f[\"ID_C\"],f[\"ID_V\"],f[\"score\"]):\n",
    "            fact_Values=(x,y,z)\n",
    "            Values.append(fact_Values)    \n",
    "      \n",
    "    if Type==3:\n",
    "        i=Recom.recommenders()\n",
    "        j=i.non_personalized_ranking(apartment_file_processed,clients_SF_processed,clients_ratings,client_number, zona_number)\n",
    "        for x,y in zip(j[\"ID_V\"],j[\"score\"]):\n",
    "            nonpers_values=(x,y)\n",
    "            Values.append(nonpers_values)\n",
    "    \n",
    "    return Values\n",
    "\n",
    "\n",
    "def Conexion_S_BD (host, user, passwd, database, table, Type ):\n",
    "    \n",
    "    Vector_BD=[]\n",
    "    \n",
    "    #Conexión a la base MySQL con Manejo de Excepciones\n",
    "\n",
    "    try:\n",
    "        mydb = mysql.connector.connect(  host=host,  user=user,  passwd=passwd,  database=database, \n",
    "                                   auth_plugin='mysql_native_password')\n",
    "            \n",
    "        mycursor = mydb.cursor()\n",
    "        \n",
    "        if(Type==1):\n",
    "            query_ID=(\"INSERT INTO cbf_r (ID_C,ID_V, Recommender_Score) VALUES(%s,%s,%s)\")\n",
    "            mycursor.executemany(query_ID,Recommender_Type(Type))                   \n",
    "            mydb.commit()\n",
    "        if(Type==2):\n",
    "            query_ID=(\"INSERT INTO fact_r (ID_C, ID_V, score) VALUES(%s,%s,%s)\")\n",
    "            mycursor.executemany(query_ID,Recommender_Type(Type))\n",
    "            mydb.commit()\n",
    "        if(Type==3):\n",
    "            query_ID=(\"INSERT INTO nonpers_r (ID_V, score) VALUES(%s,%s)\")\n",
    "            mycursor.executemany(query_ID,Recommender_Type(Type))\n",
    "            mydb.commit()\n",
    "        \n",
    "\n",
    "    except mysql.connector.Error as err:\n",
    "\n",
    "        if err.errno == errorcode.ER_ACCESS_DENIED_ERROR:\n",
    "            print(\"Usuario o Contrasena equivocada\")\n",
    "        elif err.errno == errorcode.ER_BAD_DB_ERROR:\n",
    "            print(\"La BD no existe\")\n",
    "        else:\n",
    "            print(err)\n",
    "    else:\n",
    "        mydb.close()\n",
    "    \n",
    "Conexion_S_BD(host, user, passwd, database, table, Type)\n",
    "    \n",
    "    \n",
    "    \n",
    "    "
   ]
  },
  {
   "cell_type": "markdown",
   "metadata": {
    "collapsed": true
   },
   "source": [
    "# "
   ]
  }
 ],
 "metadata": {
  "kernelspec": {
   "display_name": "Python 2",
   "language": "python",
   "name": "python2"
  },
  "language_info": {
   "codemirror_mode": {
    "name": "ipython",
    "version": 2
   },
   "file_extension": ".py",
   "mimetype": "text/x-python",
   "name": "python",
   "nbconvert_exporter": "python",
   "pygments_lexer": "ipython2",
   "version": "2.7.11"
  }
 },
 "nbformat": 4,
 "nbformat_minor": 0
}
