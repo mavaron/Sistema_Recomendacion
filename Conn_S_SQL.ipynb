{
 "cells": [
  {
   "cell_type": "code",
   "execution_count": 1,
   "metadata": {
    "collapsed": false
   },
   "outputs": [
    {
     "name": "stdout",
     "output_type": "stream",
     "text": [
      "importing Jupyter notebook from Content_Based_Recommender.ipynb\n",
      "importing Jupyter notebook from Creacion_Vectores.ipynb\n",
      "importing Jupyter notebook from Conn_E_SQL.ipynb\n",
      "importing Jupyter notebook from Normalizacion.ipynb\n",
      "importing Jupyter notebook from Recommenders.ipynb\n",
      "Quieres ver apartamentos fuera de tu zona de escogencia?\n",
      "1\n",
      "This non-commercial license of GraphLab Create for academic use is assigned to ma_varon@msn.com and will expire on October 10, 2018.\n"
     ]
    },
    {
     "name": "stderr",
     "output_type": "stream",
     "text": [
      "[INFO] graphlab.cython.cy_server: GraphLab Create v2.0.1 started. Logging: C:\\Users\\user\\AppData\\Local\\Temp\\graphlab_server_1537331309.log.0\n"
     ]
    },
    {
     "name": "stdout",
     "output_type": "stream",
     "text": [
      "------------------------------------------------------\n",
      "Inferred types from first 100 line(s) of file as \n",
      "column_type_hints=[long,long,long,long,long,long,long,long,long,long,long,long,long,long,long]\n",
      "If parsing fails due to incorrect types, you can correct\n",
      "the inferred type list above and pass it to read_csv in\n",
      "the column_type_hints argument\n",
      "------------------------------------------------------\n"
     ]
    },
    {
     "data": {
      "text/html": [
       "<pre>Finished parsing file C:\\Users\\user\\Documents\\Sistema de Recomendacion\\Single_Client_raw.csv</pre>"
      ],
      "text/plain": [
       "Finished parsing file C:\\Users\\user\\Documents\\Sistema de Recomendacion\\Single_Client_raw.csv"
      ]
     },
     "metadata": {},
     "output_type": "display_data"
    },
    {
     "data": {
      "text/html": [
       "<pre>Parsing completed. Parsed 1 lines in 0.049866 secs.</pre>"
      ],
      "text/plain": [
       "Parsing completed. Parsed 1 lines in 0.049866 secs."
      ]
     },
     "metadata": {},
     "output_type": "display_data"
    },
    {
     "data": {
      "text/html": [
       "<pre>Finished parsing file C:\\Users\\user\\Documents\\Sistema de Recomendacion\\Single_Client_raw.csv</pre>"
      ],
      "text/plain": [
       "Finished parsing file C:\\Users\\user\\Documents\\Sistema de Recomendacion\\Single_Client_raw.csv"
      ]
     },
     "metadata": {},
     "output_type": "display_data"
    },
    {
     "data": {
      "text/html": [
       "<pre>Parsing completed. Parsed 1 lines in 0.049869 secs.</pre>"
      ],
      "text/plain": [
       "Parsing completed. Parsed 1 lines in 0.049869 secs."
      ]
     },
     "metadata": {},
     "output_type": "display_data"
    },
    {
     "ename": "TypeError",
     "evalue": "Conexion_BD_ratings() takes exactly 5 arguments (6 given)",
     "output_type": "error",
     "traceback": [
      "\u001b[1;31m---------------------------------------------------------------------------\u001b[0m",
      "\u001b[1;31mTypeError\u001b[0m                                 Traceback (most recent call last)",
      "\u001b[1;32m<ipython-input-1-444a4c154771>\u001b[0m in \u001b[0;36m<module>\u001b[1;34m()\u001b[0m\n\u001b[0;32m      9\u001b[0m \u001b[1;32mimport\u001b[0m \u001b[0mCreacion_Vectores\u001b[0m \u001b[1;32mas\u001b[0m \u001b[0mC_V\u001b[0m\u001b[1;33m\u001b[0m\u001b[0m\n\u001b[0;32m     10\u001b[0m \u001b[1;32mimport\u001b[0m \u001b[0mNormalizacion\u001b[0m \u001b[1;32mas\u001b[0m \u001b[0mNorm\u001b[0m\u001b[1;33m\u001b[0m\u001b[0m\n\u001b[1;32m---> 11\u001b[1;33m \u001b[1;32mimport\u001b[0m \u001b[0mRecommenders\u001b[0m \u001b[1;32mas\u001b[0m \u001b[0mRecom\u001b[0m\u001b[1;33m\u001b[0m\u001b[0m\n\u001b[0m\u001b[0;32m     12\u001b[0m \u001b[1;33m\u001b[0m\u001b[0m\n\u001b[0;32m     13\u001b[0m \u001b[1;31m#Atributos de BD\u001b[0m\u001b[1;33m\u001b[0m\u001b[1;33m\u001b[0m\u001b[0m\n",
      "\u001b[1;32mC:\\Users\\user\\Anaconda2\\envs\\gl-env\\lib\\site-packages\\import_ipynb.pyc\u001b[0m in \u001b[0;36mload_module\u001b[1;34m(self, fullname)\u001b[0m\n\u001b[0;32m     59\u001b[0m                 \u001b[0mcode\u001b[0m \u001b[1;33m=\u001b[0m \u001b[0mself\u001b[0m\u001b[1;33m.\u001b[0m\u001b[0mshell\u001b[0m\u001b[1;33m.\u001b[0m\u001b[0minput_transformer_manager\u001b[0m\u001b[1;33m.\u001b[0m\u001b[0mtransform_cell\u001b[0m\u001b[1;33m(\u001b[0m\u001b[0mcell\u001b[0m\u001b[1;33m.\u001b[0m\u001b[0msource\u001b[0m\u001b[1;33m)\u001b[0m\u001b[1;33m\u001b[0m\u001b[0m\n\u001b[0;32m     60\u001b[0m                 \u001b[1;31m# run the code in themodule\u001b[0m\u001b[1;33m\u001b[0m\u001b[1;33m\u001b[0m\u001b[0m\n\u001b[1;32m---> 61\u001b[1;33m                 \u001b[1;32mexec\u001b[0m\u001b[1;33m(\u001b[0m\u001b[0mcode\u001b[0m\u001b[1;33m,\u001b[0m \u001b[0mmod\u001b[0m\u001b[1;33m.\u001b[0m\u001b[0m__dict__\u001b[0m\u001b[1;33m)\u001b[0m\u001b[1;33m\u001b[0m\u001b[0m\n\u001b[0m\u001b[0;32m     62\u001b[0m         \u001b[1;32mfinally\u001b[0m\u001b[1;33m:\u001b[0m\u001b[1;33m\u001b[0m\u001b[0m\n\u001b[0;32m     63\u001b[0m             \u001b[0mself\u001b[0m\u001b[1;33m.\u001b[0m\u001b[0mshell\u001b[0m\u001b[1;33m.\u001b[0m\u001b[0muser_ns\u001b[0m \u001b[1;33m=\u001b[0m \u001b[0msave_user_ns\u001b[0m\u001b[1;33m\u001b[0m\u001b[0m\n",
      "\u001b[1;32mC:\\Users\\user\\Documents\\Sistema de Recomendacion\\Recommenders.ipynb\u001b[0m in \u001b[0;36m<module>\u001b[1;34m()\u001b[0m\n",
      "\u001b[1;31mTypeError\u001b[0m: Conexion_BD_ratings() takes exactly 5 arguments (6 given)"
     ]
    }
   ],
   "source": [
    "import io, os, sys, types\n",
    "import graphlab as gl\n",
    "import mysql.connector\n",
    "from mysql.connector import errorcode\n",
    "import import_ipynb\n",
    "import Content_Based_Recommender as C_B_R\n",
    "import pyodbc\n",
    "import Conn_E_SQL as Conn\n",
    "import Creacion_Vectores as C_V\n",
    "import Normalizacion as Norm\n",
    "import Recommenders as Recom\n",
    "\n",
    "#Atributos de BD\n",
    "host=\"localhost\"\n",
    "user=\"root\"\n",
    "passwd=\"dH4Zr2K2W\"\n",
    "database=\"recomendacion\"\n",
    "table= \"CBF\"\n",
    "\n",
    "#Atributos de XML o consola\n",
    "\n",
    "print (\"Quieres ver apartamentos fuera de tu zona de escogencia?\")\n",
    "visualization=int(input())\n",
    "Type=2\n",
    "\n",
    "#Atributos de Vivienda\n",
    "\n",
    "Vector_BD_Vivienda= Conn.Conexion_BD(host,user,passwd,database,table)\n",
    "apartment_file_processed= gl.SFrame(C_V.Creacion_Vector_Apartamento(Vector_BD_Vivienda))\n",
    "apartment_file_normalized=gl.SFrame(Norm.norm_apartment_matrix(apartment_file_processed))\n",
    "Vector_IDF=[]\n",
    "Vector_IDF=Norm.Inv_DF(apartment_file_processed)\n",
    "\n",
    "#Atributos de Clientes\n",
    "\n",
    "clientfile=\"C:\\\\Users\\\\user\\\\Documents\\\\Sistema de Recomendacion\\\\Single_Client_raw.csv\"\n",
    "client_file_processed=gl.SFrame(C_V.Creacion_Vector_Cliente(clientfile))\n",
    "client_array=client_file_processed[\"ID_C\"]\n",
    "client_number=client_array[0]\n",
    "zona_array=client_file_processed[\"Zona\"]\n",
    "zona_number=zona_array[0]\n",
    "\n",
    "#Atributos de Rating\n",
    "\n",
    "Vector_Ratings_BD=Conn.Conexion_BD_rating(client_number, host, user, passwd, database, table)\n",
    "client_rating=C_V.Creacion_Matrix_Rating(Vector_Ratings_BD)\n",
    "\n",
    "#Atributos de Ratings\n",
    "\n",
    "Vector_Ratings_BD=Conn.Conexion_BD_ratings(host, user, passwd, database, table)\n",
    "clients_ratings=C_V.Creacion_Matrix_Rating(Vector_Ratings_BD)\n",
    "print(clients_ratings)\n",
    "\n",
    "#Funcion para entrenar sistema de recomendacion segun el tipo que escoja el cliente\n",
    "\n",
    "def Recommender_Type (Type):\n",
    "    \n",
    "    Values=[]\n",
    "    \n",
    "    if Type==1:\n",
    "        \n",
    "        a=C_B_R.content_based_recommender()\n",
    "        b=C_B_R.content_based_recommender()\n",
    "        c=C_B_R.content_based_recommender()\n",
    "        d=C_B_R.content_based_recommender()\n",
    "        b=a.recommender_calculation(apartment_file_normalized,client_file_processed,Vector_IDF,client_number)\n",
    "        d=c.recommender_matrix(b, client_file_processed, client_number, apartment_file_processed,apartment_file_normalized,\n",
    "                               zona_number, visualization)\n",
    "        for x,y in zip(d[\"ID_V\"],d[\"Recommender_Score\"]):\n",
    "            Pair_Values=(x,y)\n",
    "            Values.append(Pair_Values)\n",
    "    \n",
    "    if Type==2:\n",
    "        e=Recom.recommenders()\n",
    "        f=e.item_ranking(apartment_file_processed,client_file_processed,client_rating,visualization)\n",
    "        for x,y,z in zip(f[\"ID_C\"],f[\"ID_V\"],f[\"score\"]):\n",
    "            trio_Values=(x,y,z)\n",
    "            Values.append(trio_Values)\n",
    "\n",
    "    return Values\n",
    "\n",
    "\n",
    "def Conexion_S_BD (host, user, passwd, database, table, Type ):\n",
    "    \n",
    "    Vector_BD=[]\n",
    "    \n",
    "    #Conexión a la base MySQL con Manejo de Excepciones\n",
    "\n",
    "    try:\n",
    "        mydb = mysql.connector.connect(  host=host,  user=user,  passwd=passwd,  database=database, \n",
    "                                   auth_plugin='mysql_native_password')\n",
    "            \n",
    "        mycursor = mydb.cursor()\n",
    "        \n",
    "        if(Type==1):\n",
    "            query_ID=(\"INSERT INTO cbf_r (ID_V, Recommender_Score) VALUES(%s,%s)\")\n",
    "            mycursor.executemany(query_ID,Recommender_Type(Type))                   \n",
    "            mydb.commit()\n",
    "        if(Type==2):\n",
    "            query_ID=(\"INSERT INTO fact_r (ID_C, ID_V, score) VALUES(%s,%s,%s)\")\n",
    "            mycursor.executemany(query_ID,Recommender_Type(Type))\n",
    "            mydb.commit()\n",
    "\n",
    "    except mysql.connector.Error as err:\n",
    "\n",
    "        if err.errno == errorcode.ER_ACCESS_DENIED_ERROR:\n",
    "            print(\"Usuario o Contrasena equivocada\")\n",
    "        elif err.errno == errorcode.ER_BAD_DB_ERROR:\n",
    "            print(\"La BD no existe\")\n",
    "        else:\n",
    "            print(err)\n",
    "    else:\n",
    "        mydb.close()\n",
    "    \n",
    "\n",
    "    \n",
    "    \n",
    "    \n",
    "    "
   ]
  },
  {
   "cell_type": "markdown",
   "metadata": {
    "collapsed": true
   },
   "source": [
    "# "
   ]
  }
 ],
 "metadata": {
  "kernelspec": {
   "display_name": "Python 2",
   "language": "python",
   "name": "python2"
  },
  "language_info": {
   "codemirror_mode": {
    "name": "ipython",
    "version": 2
   },
   "file_extension": ".py",
   "mimetype": "text/x-python",
   "name": "python",
   "nbconvert_exporter": "python",
   "pygments_lexer": "ipython2",
   "version": "2.7.11"
  }
 },
 "nbformat": 4,
 "nbformat_minor": 0
}
