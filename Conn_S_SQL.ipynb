{
 "cells": [
  {
   "cell_type": "code",
   "execution_count": 3,
   "metadata": {
    "collapsed": false
   },
   "outputs": [
    {
     "name": "stdout",
     "output_type": "stream",
     "text": [
      "Quieres ver apartamentos fuera de tu zona de escogencia?\n",
      "1\n"
     ]
    },
    {
     "data": {
      "text/html": [
       "<pre>Finished parsing file C:\\Users\\user\\Documents\\Sistema de Recomendacion\\Single_Client_raw.csv</pre>"
      ],
      "text/plain": [
       "Finished parsing file C:\\Users\\user\\Documents\\Sistema de Recomendacion\\Single_Client_raw.csv"
      ]
     },
     "metadata": {},
     "output_type": "display_data"
    },
    {
     "data": {
      "text/html": [
       "<pre>Parsing completed. Parsed 1 lines in 0.024928 secs.</pre>"
      ],
      "text/plain": [
       "Parsing completed. Parsed 1 lines in 0.024928 secs."
      ]
     },
     "metadata": {},
     "output_type": "display_data"
    },
    {
     "name": "stdout",
     "output_type": "stream",
     "text": [
      "------------------------------------------------------\n",
      "Inferred types from first 100 line(s) of file as \n",
      "column_type_hints=[long,long,long,long,long,long,long,long,long,long,long,long,long,long,long]\n",
      "If parsing fails due to incorrect types, you can correct\n",
      "the inferred type list above and pass it to read_csv in\n",
      "the column_type_hints argument\n",
      "------------------------------------------------------\n"
     ]
    },
    {
     "data": {
      "text/html": [
       "<pre>Finished parsing file C:\\Users\\user\\Documents\\Sistema de Recomendacion\\Single_Client_raw.csv</pre>"
      ],
      "text/plain": [
       "Finished parsing file C:\\Users\\user\\Documents\\Sistema de Recomendacion\\Single_Client_raw.csv"
      ]
     },
     "metadata": {},
     "output_type": "display_data"
    },
    {
     "data": {
      "text/html": [
       "<pre>Parsing completed. Parsed 1 lines in 0.026948 secs.</pre>"
      ],
      "text/plain": [
       "Parsing completed. Parsed 1 lines in 0.026948 secs."
      ]
     },
     "metadata": {},
     "output_type": "display_data"
    },
    {
     "name": "stdout",
     "output_type": "stream",
     "text": [
      "Ingresa la zona donde quieres ver las viviendas mas populares ?\n",
      "1\n"
     ]
    },
    {
     "data": {
      "text/html": [
       "<pre>Recsys training: model = popularity</pre>"
      ],
      "text/plain": [
       "Recsys training: model = popularity"
      ]
     },
     "metadata": {},
     "output_type": "display_data"
    },
    {
     "data": {
      "text/html": [
       "<pre>Preparing data set.</pre>"
      ],
      "text/plain": [
       "Preparing data set."
      ]
     },
     "metadata": {},
     "output_type": "display_data"
    },
    {
     "data": {
      "text/html": [
       "<pre>    Data has 6 observations with 10 users and 151 items.</pre>"
      ],
      "text/plain": [
       "    Data has 6 observations with 10 users and 151 items."
      ]
     },
     "metadata": {},
     "output_type": "display_data"
    },
    {
     "data": {
      "text/html": [
       "<pre>    Data prepared in: 0.048869s</pre>"
      ],
      "text/plain": [
       "    Data prepared in: 0.048869s"
      ]
     },
     "metadata": {},
     "output_type": "display_data"
    },
    {
     "data": {
      "text/html": [
       "<pre>6 observations to process; with 151 unique items.</pre>"
      ],
      "text/plain": [
       "6 observations to process; with 151 unique items."
      ]
     },
     "metadata": {},
     "output_type": "display_data"
    },
    {
     "ename": "AttributeError",
     "evalue": "recommenders instance has no attribute '__getitem__'",
     "output_type": "error",
     "traceback": [
      "\u001b[1;31m---------------------------------------------------------------------------\u001b[0m",
      "\u001b[1;31mAttributeError\u001b[0m                            Traceback (most recent call last)",
      "\u001b[1;32m<ipython-input-3-9143dbf42fa1>\u001b[0m in \u001b[0;36m<module>\u001b[1;34m()\u001b[0m\n\u001b[0;32m    140\u001b[0m         \u001b[0mmydb\u001b[0m\u001b[1;33m.\u001b[0m\u001b[0mclose\u001b[0m\u001b[1;33m(\u001b[0m\u001b[1;33m)\u001b[0m\u001b[1;33m\u001b[0m\u001b[0m\n\u001b[0;32m    141\u001b[0m \u001b[1;33m\u001b[0m\u001b[0m\n\u001b[1;32m--> 142\u001b[1;33m \u001b[0mConexion_S_BD\u001b[0m\u001b[1;33m(\u001b[0m\u001b[0mhost\u001b[0m\u001b[1;33m,\u001b[0m \u001b[0muser\u001b[0m\u001b[1;33m,\u001b[0m \u001b[0mpasswd\u001b[0m\u001b[1;33m,\u001b[0m \u001b[0mdatabase\u001b[0m\u001b[1;33m,\u001b[0m \u001b[0mtable\u001b[0m\u001b[1;33m,\u001b[0m \u001b[0mType\u001b[0m\u001b[1;33m)\u001b[0m\u001b[1;33m\u001b[0m\u001b[0m\n\u001b[0m\u001b[0;32m    143\u001b[0m \u001b[1;33m\u001b[0m\u001b[0m\n\u001b[0;32m    144\u001b[0m \u001b[1;33m\u001b[0m\u001b[0m\n",
      "\u001b[1;32m<ipython-input-3-9143dbf42fa1>\u001b[0m in \u001b[0;36mConexion_S_BD\u001b[1;34m(host, user, passwd, database, table, Type)\u001b[0m\n\u001b[0;32m    125\u001b[0m         \u001b[1;32mif\u001b[0m\u001b[1;33m(\u001b[0m\u001b[0mType\u001b[0m\u001b[1;33m==\u001b[0m\u001b[1;36m4\u001b[0m\u001b[1;33m)\u001b[0m\u001b[1;33m:\u001b[0m\u001b[1;33m\u001b[0m\u001b[0m\n\u001b[0;32m    126\u001b[0m             \u001b[0mquery_ID\u001b[0m\u001b[1;33m=\u001b[0m\u001b[1;33m(\u001b[0m\u001b[1;34m\"INSERT INTO nonpers_r (ID_V, score) VALUES(%s,%s)\"\u001b[0m\u001b[1;33m)\u001b[0m\u001b[1;33m\u001b[0m\u001b[0m\n\u001b[1;32m--> 127\u001b[1;33m             \u001b[0mmycursor\u001b[0m\u001b[1;33m.\u001b[0m\u001b[0mexecutemany\u001b[0m\u001b[1;33m(\u001b[0m\u001b[0mquery_ID\u001b[0m\u001b[1;33m,\u001b[0m\u001b[0mRecommender_Type\u001b[0m\u001b[1;33m(\u001b[0m\u001b[0mType\u001b[0m\u001b[1;33m)\u001b[0m\u001b[1;33m)\u001b[0m\u001b[1;33m\u001b[0m\u001b[0m\n\u001b[0m\u001b[0;32m    128\u001b[0m             \u001b[0mmydb\u001b[0m\u001b[1;33m.\u001b[0m\u001b[0mcommit\u001b[0m\u001b[1;33m(\u001b[0m\u001b[1;33m)\u001b[0m\u001b[1;33m\u001b[0m\u001b[0m\n\u001b[0;32m    129\u001b[0m \u001b[1;33m\u001b[0m\u001b[0m\n",
      "\u001b[1;32m<ipython-input-3-9143dbf42fa1>\u001b[0m in \u001b[0;36mRecommender_Type\u001b[1;34m(Type)\u001b[0m\n\u001b[0;32m     92\u001b[0m         \u001b[0mi\u001b[0m\u001b[1;33m=\u001b[0m\u001b[0mRecom\u001b[0m\u001b[1;33m.\u001b[0m\u001b[0mrecommenders\u001b[0m\u001b[1;33m(\u001b[0m\u001b[1;33m)\u001b[0m\u001b[1;33m\u001b[0m\u001b[0m\n\u001b[0;32m     93\u001b[0m         \u001b[0mj\u001b[0m\u001b[1;33m=\u001b[0m\u001b[0mi\u001b[0m\u001b[1;33m.\u001b[0m\u001b[0mnon_personalized_ranking\u001b[0m\u001b[1;33m(\u001b[0m\u001b[0mapartment_file_processed\u001b[0m\u001b[1;33m,\u001b[0m\u001b[0mclients_SF_processed\u001b[0m\u001b[1;33m,\u001b[0m\u001b[0mclients_ratings\u001b[0m\u001b[1;33m,\u001b[0m\u001b[0mclient_number\u001b[0m\u001b[1;33m)\u001b[0m\u001b[1;33m\u001b[0m\u001b[0m\n\u001b[1;32m---> 94\u001b[1;33m         \u001b[1;32mfor\u001b[0m \u001b[0mx\u001b[0m\u001b[1;33m,\u001b[0m\u001b[0my\u001b[0m \u001b[1;32min\u001b[0m \u001b[0mzip\u001b[0m\u001b[1;33m(\u001b[0m\u001b[0mi\u001b[0m\u001b[1;33m[\u001b[0m\u001b[1;34m\"ID_V\"\u001b[0m\u001b[1;33m]\u001b[0m\u001b[1;33m,\u001b[0m\u001b[0mi\u001b[0m\u001b[1;33m[\u001b[0m\u001b[1;34m\"score\"\u001b[0m\u001b[1;33m]\u001b[0m\u001b[1;33m)\u001b[0m\u001b[1;33m:\u001b[0m\u001b[1;33m\u001b[0m\u001b[0m\n\u001b[0m\u001b[0;32m     95\u001b[0m             \u001b[0mnonpers_values\u001b[0m\u001b[1;33m=\u001b[0m\u001b[1;33m(\u001b[0m\u001b[0mx\u001b[0m\u001b[1;33m,\u001b[0m\u001b[0my\u001b[0m\u001b[1;33m)\u001b[0m\u001b[1;33m\u001b[0m\u001b[0m\n\u001b[0;32m     96\u001b[0m             \u001b[0mValues\u001b[0m\u001b[1;33m.\u001b[0m\u001b[0mappend\u001b[0m\u001b[1;33m(\u001b[0m\u001b[0mnonpers_values\u001b[0m\u001b[1;33m)\u001b[0m\u001b[1;33m\u001b[0m\u001b[0m\n",
      "\u001b[1;31mAttributeError\u001b[0m: recommenders instance has no attribute '__getitem__'"
     ]
    }
   ],
   "source": [
    "import io, os, sys, types\n",
    "import graphlab as gl\n",
    "import mysql.connector\n",
    "from mysql.connector import errorcode\n",
    "import import_ipynb\n",
    "import Content_Based_Recommender as C_B_R\n",
    "import pyodbc\n",
    "import Conn_E_SQL as Conn\n",
    "import Creacion_Vectores as C_V\n",
    "import Normalizacion as Norm\n",
    "import Recommenders as Recom\n",
    "\n",
    "#Atributos de BD\n",
    "host=\"recomdb.c4v5c6aergun.us-west-2.rds.amazonaws.com\"\n",
    "user=\"imaginex\"\n",
    "passwd=\"6^b{X2Du)Qf6\"\n",
    "database=\"RecomDB\"\n",
    "table= \"CBF\"\n",
    "\n",
    "#Atributos de XML o consola\n",
    "\n",
    "print (\"Quieres ver apartamentos fuera de tu zona de escogencia?\")\n",
    "visualization=int(input())\n",
    "Type=4\n",
    "\n",
    "#Atributos de Vivienda\n",
    "\n",
    "Vector_BD_Vivienda= Conn.Conexion_BD(host,user,passwd,database,table)\n",
    "apartment_file_processed= gl.SFrame(C_V.Creacion_Vector_Apartamento(Vector_BD_Vivienda))\n",
    "apartment_file_normalized=gl.SFrame(Norm.norm_apartment_matrix(apartment_file_processed))\n",
    "Vector_IDF=[]\n",
    "Vector_IDF=Norm.Inv_DF(apartment_file_processed)\n",
    "\n",
    "#Atributos de Cliente\n",
    "\n",
    "clientfile=\"C:\\\\Users\\\\user\\\\Documents\\\\Sistema de Recomendacion\\\\Single_Client_raw.csv\"\n",
    "client_file_processed=gl.SFrame(C_V.Creacion_Vector_Cliente(clientfile))\n",
    "client_array=client_file_processed[\"ID_C\"]\n",
    "client_number=client_array[0]\n",
    "zona_array=client_file_processed[\"Zona\"]\n",
    "zona_number=zona_array[0]\n",
    "\n",
    "#Atributos de Clientes\n",
    "\n",
    "Vector_Clientes_BD= Conn.Conexion_BD_clients (host, user, passwd, database, table)\n",
    "clients_SF_processed=gl.SFrame(C_V.Creacion_BD_Clientes(Vector_Clientes_BD))\n",
    "\n",
    "#Atributos de Rating\n",
    "\n",
    "Vector_Ratings_BD=Conn.Conexion_BD_rating(client_number, host, user, passwd, database, table)\n",
    "client_rating=C_V.Creacion_Matrix_Rating(Vector_Ratings_BD)\n",
    "\n",
    "#Atributos de Ratings\n",
    "\n",
    "Vector_Ratings_BD=Conn.Conexion_BD_ratings(host, user, passwd, database, table)\n",
    "clients_ratings=C_V.Creacion_Matrix_Rating(Vector_Ratings_BD)\n",
    "\n",
    "#Funcion para entrenar sistema de recomendacion segun el tipo que escoja el cliente\n",
    "\n",
    "def Recommender_Type (Type):\n",
    "    \n",
    "    Values=[]\n",
    "    \n",
    "    if Type==1:\n",
    "        \n",
    "        a=C_B_R.content_based_recommender()\n",
    "        b=C_B_R.content_based_recommender()\n",
    "        c=C_B_R.content_based_recommender()\n",
    "        d=C_B_R.content_based_recommender()\n",
    "        b=a.recommender_calculation(apartment_file_normalized,client_file_processed,Vector_IDF,client_number)\n",
    "        d=c.recommender_matrix(b, client_file_processed, client_number, apartment_file_processed,apartment_file_normalized,\n",
    "                               zona_number, visualization)\n",
    "        for x,y,z in zip(d[\"ID_C\"],d[\"ID_V\"],d[\"Recommender_Score\"]):\n",
    "            cbr_Values=(x,y,z)\n",
    "            Values.append(cbr_Values)\n",
    "    \n",
    "    if Type==2:\n",
    "        e=Recom.recommenders()\n",
    "        f=e.item_ranking(apartment_file_processed,client_file_processed,client_rating,visualization)\n",
    "        for x,y,z in zip(f[\"ID_C\"],f[\"ID_V\"],f[\"score\"]):\n",
    "            fact_Values=(x,y,z)\n",
    "            Values.append(fact_Values)\n",
    "    \n",
    "    if Type==3:\n",
    "        g=Recom.recommenders()\n",
    "        h=g.collaborative_ranking(apartment_file_processed,client_file_processed, clients_SF_processed,clients_ratings,visualization)\n",
    "        for x,y,z in zip(h[\"ID_C\"],h[\"ID_V\"],h[\"score\"]):\n",
    "            collab_values=(x,y,z)\n",
    "            Values.append(collab_values)\n",
    "    \n",
    "    if Type==4:\n",
    "        i=Recom.recommenders()\n",
    "        j=i.non_personalized_ranking(apartment_file_processed,clients_SF_processed,clients_ratings,client_number)\n",
    "        for x,y in zip(j[\"ID_V\"],j[\"score\"]):\n",
    "            nonpers_values=(x,y)\n",
    "            Values.append(nonpers_values)\n",
    "    \n",
    "    return Values\n",
    "\n",
    "\n",
    "def Conexion_S_BD (host, user, passwd, database, table, Type ):\n",
    "    \n",
    "    Vector_BD=[]\n",
    "    \n",
    "    #Conexión a la base MySQL con Manejo de Excepciones\n",
    "\n",
    "    try:\n",
    "        mydb = mysql.connector.connect(  host=host,  user=user,  passwd=passwd,  database=database, \n",
    "                                   auth_plugin='mysql_native_password')\n",
    "            \n",
    "        mycursor = mydb.cursor()\n",
    "        \n",
    "        if(Type==1):\n",
    "            query_ID=(\"INSERT INTO cbf_r (ID_C,ID_V, Recommender_Score) VALUES(%s,%s,%s)\")\n",
    "            mycursor.executemany(query_ID,Recommender_Type(Type))                   \n",
    "            mydb.commit()\n",
    "        if(Type==2):\n",
    "            query_ID=(\"INSERT INTO fact_r (ID_C, ID_V, score) VALUES(%s,%s,%s)\")\n",
    "            mycursor.executemany(query_ID,Recommender_Type(Type))\n",
    "            mydb.commit()\n",
    "        if(Type==3):\n",
    "            query_ID=(\"INSERT INTO collab_r (ID_C, ID_V, score) VALUES(%s,%s,%s)\")\n",
    "            mycursor.executemany(query_ID,Recommender_Type(Type))\n",
    "            mydb.commit()\n",
    "        if(Type==4):\n",
    "            query_ID=(\"INSERT INTO nonpers_r (ID_V, score) VALUES(%s,%s)\")\n",
    "            mycursor.executemany(query_ID,Recommender_Type(Type))\n",
    "            mydb.commit()\n",
    "        \n",
    "\n",
    "    except mysql.connector.Error as err:\n",
    "\n",
    "        if err.errno == errorcode.ER_ACCESS_DENIED_ERROR:\n",
    "            print(\"Usuario o Contrasena equivocada\")\n",
    "        elif err.errno == errorcode.ER_BAD_DB_ERROR:\n",
    "            print(\"La BD no existe\")\n",
    "        else:\n",
    "            print(err)\n",
    "    else:\n",
    "        mydb.close()\n",
    "    \n",
    "Conexion_S_BD(host, user, passwd, database, table, Type)\n",
    "    \n",
    "    \n",
    "    \n",
    "    "
   ]
  },
  {
   "cell_type": "markdown",
   "metadata": {
    "collapsed": true
   },
   "source": [
    "# "
   ]
  }
 ],
 "metadata": {
  "kernelspec": {
   "display_name": "Python 2",
   "language": "python",
   "name": "python2"
  },
  "language_info": {
   "codemirror_mode": {
    "name": "ipython",
    "version": 2
   },
   "file_extension": ".py",
   "mimetype": "text/x-python",
   "name": "python",
   "nbconvert_exporter": "python",
   "pygments_lexer": "ipython2",
   "version": "2.7.11"
  }
 },
 "nbformat": 4,
 "nbformat_minor": 0
}
