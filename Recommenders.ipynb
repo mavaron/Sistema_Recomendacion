{
 "cells": [
  {
   "cell_type": "code",
   "execution_count": 7,
   "metadata": {
    "collapsed": false
   },
   "outputs": [
    {
     "data": {
      "text/html": [
       "<pre>Finished parsing file C:\\Users\\user\\Documents\\Sistema de Recomendacion\\Single_Client_raw.csv</pre>"
      ],
      "text/plain": [
       "Finished parsing file C:\\Users\\user\\Documents\\Sistema de Recomendacion\\Single_Client_raw.csv"
      ]
     },
     "metadata": {},
     "output_type": "display_data"
    },
    {
     "data": {
      "text/html": [
       "<pre>Parsing completed. Parsed 1 lines in 0.064823 secs.</pre>"
      ],
      "text/plain": [
       "Parsing completed. Parsed 1 lines in 0.064823 secs."
      ]
     },
     "metadata": {},
     "output_type": "display_data"
    },
    {
     "name": "stdout",
     "output_type": "stream",
     "text": [
      "------------------------------------------------------\n",
      "Inferred types from first 100 line(s) of file as \n",
      "column_type_hints=[long,long,long,long,long,long,long,long,long,long,long,long,long,long,long]\n",
      "If parsing fails due to incorrect types, you can correct\n",
      "the inferred type list above and pass it to read_csv in\n",
      "the column_type_hints argument\n",
      "------------------------------------------------------\n"
     ]
    },
    {
     "data": {
      "text/html": [
       "<pre>Finished parsing file C:\\Users\\user\\Documents\\Sistema de Recomendacion\\Single_Client_raw.csv</pre>"
      ],
      "text/plain": [
       "Finished parsing file C:\\Users\\user\\Documents\\Sistema de Recomendacion\\Single_Client_raw.csv"
      ]
     },
     "metadata": {},
     "output_type": "display_data"
    },
    {
     "data": {
      "text/html": [
       "<pre>Parsing completed. Parsed 1 lines in 0.063836 secs.</pre>"
      ],
      "text/plain": [
       "Parsing completed. Parsed 1 lines in 0.063836 secs."
      ]
     },
     "metadata": {},
     "output_type": "display_data"
    },
    {
     "name": "stdout",
     "output_type": "stream",
     "text": [
      "Quieres ver apartamentos fuera de tu zona de escogencia?\n",
      "1\n"
     ]
    },
    {
     "data": {
      "text/html": [
       "<pre>Recsys training: model = ranking_factorization_recommender</pre>"
      ],
      "text/plain": [
       "Recsys training: model = ranking_factorization_recommender"
      ]
     },
     "metadata": {},
     "output_type": "display_data"
    },
    {
     "data": {
      "text/html": [
       "<pre>Preparing data set.</pre>"
      ],
      "text/plain": [
       "Preparing data set."
      ]
     },
     "metadata": {},
     "output_type": "display_data"
    },
    {
     "data": {
      "text/html": [
       "<pre>    Data has 8 observations with 1 users and 381 items.</pre>"
      ],
      "text/plain": [
       "    Data has 8 observations with 1 users and 381 items."
      ]
     },
     "metadata": {},
     "output_type": "display_data"
    },
    {
     "data": {
      "text/html": [
       "<pre>    Data prepared in: 0.08876s</pre>"
      ],
      "text/plain": [
       "    Data prepared in: 0.08876s"
      ]
     },
     "metadata": {},
     "output_type": "display_data"
    },
    {
     "data": {
      "text/html": [
       "<pre>Training ranking_factorization_recommender for recommendations.</pre>"
      ],
      "text/plain": [
       "Training ranking_factorization_recommender for recommendations."
      ]
     },
     "metadata": {},
     "output_type": "display_data"
    },
    {
     "data": {
      "text/html": [
       "<pre>+--------------------------------+--------------------------------------------------+----------+</pre>"
      ],
      "text/plain": [
       "+--------------------------------+--------------------------------------------------+----------+"
      ]
     },
     "metadata": {},
     "output_type": "display_data"
    },
    {
     "data": {
      "text/html": [
       "<pre>| Parameter                      | Description                                      | Value    |</pre>"
      ],
      "text/plain": [
       "| Parameter                      | Description                                      | Value    |"
      ]
     },
     "metadata": {},
     "output_type": "display_data"
    },
    {
     "data": {
      "text/html": [
       "<pre>+--------------------------------+--------------------------------------------------+----------+</pre>"
      ],
      "text/plain": [
       "+--------------------------------+--------------------------------------------------+----------+"
      ]
     },
     "metadata": {},
     "output_type": "display_data"
    },
    {
     "data": {
      "text/html": [
       "<pre>| num_factors                    | Factor Dimension                                 | 32       |</pre>"
      ],
      "text/plain": [
       "| num_factors                    | Factor Dimension                                 | 32       |"
      ]
     },
     "metadata": {},
     "output_type": "display_data"
    },
    {
     "data": {
      "text/html": [
       "<pre>| regularization                 | L2 Regularization on Factors                     | 1e-009   |</pre>"
      ],
      "text/plain": [
       "| regularization                 | L2 Regularization on Factors                     | 1e-009   |"
      ]
     },
     "metadata": {},
     "output_type": "display_data"
    },
    {
     "data": {
      "text/html": [
       "<pre>| solver                         | Solver used for training                         | adagrad  |</pre>"
      ],
      "text/plain": [
       "| solver                         | Solver used for training                         | adagrad  |"
      ]
     },
     "metadata": {},
     "output_type": "display_data"
    },
    {
     "data": {
      "text/html": [
       "<pre>| linear_regularization          | L2 Regularization on Linear Coefficients         | 1e-009   |</pre>"
      ],
      "text/plain": [
       "| linear_regularization          | L2 Regularization on Linear Coefficients         | 1e-009   |"
      ]
     },
     "metadata": {},
     "output_type": "display_data"
    },
    {
     "data": {
      "text/html": [
       "<pre>| ranking_regularization         | Rank-based Regularization Weight                 | 0.1      |</pre>"
      ],
      "text/plain": [
       "| ranking_regularization         | Rank-based Regularization Weight                 | 0.1      |"
      ]
     },
     "metadata": {},
     "output_type": "display_data"
    },
    {
     "data": {
      "text/html": [
       "<pre>| unobserved_rating_value        | Ranking Target Rating for Unobserved Interacti...| 1        |</pre>"
      ],
      "text/plain": [
       "| unobserved_rating_value        | Ranking Target Rating for Unobserved Interacti...| 1        |"
      ]
     },
     "metadata": {},
     "output_type": "display_data"
    },
    {
     "data": {
      "text/html": [
       "<pre>| side_data_factorization        | Assign Factors for Side Data                     | True     |</pre>"
      ],
      "text/plain": [
       "| side_data_factorization        | Assign Factors for Side Data                     | True     |"
      ]
     },
     "metadata": {},
     "output_type": "display_data"
    },
    {
     "data": {
      "text/html": [
       "<pre>| max_iterations                 | Maximum Number of Iterations                     | 25       |</pre>"
      ],
      "text/plain": [
       "| max_iterations                 | Maximum Number of Iterations                     | 25       |"
      ]
     },
     "metadata": {},
     "output_type": "display_data"
    },
    {
     "data": {
      "text/html": [
       "<pre>+--------------------------------+--------------------------------------------------+----------+</pre>"
      ],
      "text/plain": [
       "+--------------------------------+--------------------------------------------------+----------+"
      ]
     },
     "metadata": {},
     "output_type": "display_data"
    },
    {
     "data": {
      "text/html": [
       "<pre>  Optimizing model using SGD; tuning step size.</pre>"
      ],
      "text/plain": [
       "  Optimizing model using SGD; tuning step size."
      ]
     },
     "metadata": {},
     "output_type": "display_data"
    },
    {
     "data": {
      "text/html": [
       "<pre>  Using 8 / 8 points for tuning the step size.</pre>"
      ],
      "text/plain": [
       "  Using 8 / 8 points for tuning the step size."
      ]
     },
     "metadata": {},
     "output_type": "display_data"
    },
    {
     "data": {
      "text/html": [
       "<pre>+---------+-------------------+------------------------------------------+</pre>"
      ],
      "text/plain": [
       "+---------+-------------------+------------------------------------------+"
      ]
     },
     "metadata": {},
     "output_type": "display_data"
    },
    {
     "data": {
      "text/html": [
       "<pre>| Attempt | Initial Step Size | Estimated Objective Value                |</pre>"
      ],
      "text/plain": [
       "| Attempt | Initial Step Size | Estimated Objective Value                |"
      ]
     },
     "metadata": {},
     "output_type": "display_data"
    },
    {
     "data": {
      "text/html": [
       "<pre>+---------+-------------------+------------------------------------------+</pre>"
      ],
      "text/plain": [
       "+---------+-------------------+------------------------------------------+"
      ]
     },
     "metadata": {},
     "output_type": "display_data"
    },
    {
     "data": {
      "text/html": [
       "<pre>| 0       | 2.08333           | Not Viable                               |</pre>"
      ],
      "text/plain": [
       "| 0       | 2.08333           | Not Viable                               |"
      ]
     },
     "metadata": {},
     "output_type": "display_data"
    },
    {
     "data": {
      "text/html": [
       "<pre>| 1       | 0.520833          | Not Viable                               |</pre>"
      ],
      "text/plain": [
       "| 1       | 0.520833          | Not Viable                               |"
      ]
     },
     "metadata": {},
     "output_type": "display_data"
    },
    {
     "data": {
      "text/html": [
       "<pre>| 2       | 0.130208          | 0.718352                                 |</pre>"
      ],
      "text/plain": [
       "| 2       | 0.130208          | 0.718352                                 |"
      ]
     },
     "metadata": {},
     "output_type": "display_data"
    },
    {
     "data": {
      "text/html": [
       "<pre>| 3       | 0.0651042         | 1.09794                                  |</pre>"
      ],
      "text/plain": [
       "| 3       | 0.0651042         | 1.09794                                  |"
      ]
     },
     "metadata": {},
     "output_type": "display_data"
    },
    {
     "data": {
      "text/html": [
       "<pre>| 4       | 0.0325521         | 1.70779                                  |</pre>"
      ],
      "text/plain": [
       "| 4       | 0.0325521         | 1.70779                                  |"
      ]
     },
     "metadata": {},
     "output_type": "display_data"
    },
    {
     "data": {
      "text/html": [
       "<pre>+---------+-------------------+------------------------------------------+</pre>"
      ],
      "text/plain": [
       "+---------+-------------------+------------------------------------------+"
      ]
     },
     "metadata": {},
     "output_type": "display_data"
    },
    {
     "data": {
      "text/html": [
       "<pre>| Final   | 0.130208          | 0.718352                                 |</pre>"
      ],
      "text/plain": [
       "| Final   | 0.130208          | 0.718352                                 |"
      ]
     },
     "metadata": {},
     "output_type": "display_data"
    },
    {
     "data": {
      "text/html": [
       "<pre>+---------+-------------------+------------------------------------------+</pre>"
      ],
      "text/plain": [
       "+---------+-------------------+------------------------------------------+"
      ]
     },
     "metadata": {},
     "output_type": "display_data"
    },
    {
     "data": {
      "text/html": [
       "<pre>Starting Optimization.</pre>"
      ],
      "text/plain": [
       "Starting Optimization."
      ]
     },
     "metadata": {},
     "output_type": "display_data"
    },
    {
     "data": {
      "text/html": [
       "<pre>+---------+--------------+-------------------+-----------------------+-------------+</pre>"
      ],
      "text/plain": [
       "+---------+--------------+-------------------+-----------------------+-------------+"
      ]
     },
     "metadata": {},
     "output_type": "display_data"
    },
    {
     "data": {
      "text/html": [
       "<pre>| Iter.   | Elapsed Time | Approx. Objective | Approx. Training RMSE | Step Size   |</pre>"
      ],
      "text/plain": [
       "| Iter.   | Elapsed Time | Approx. Objective | Approx. Training RMSE | Step Size   |"
      ]
     },
     "metadata": {},
     "output_type": "display_data"
    },
    {
     "data": {
      "text/html": [
       "<pre>+---------+--------------+-------------------+-----------------------+-------------+</pre>"
      ],
      "text/plain": [
       "+---------+--------------+-------------------+-----------------------+-------------+"
      ]
     },
     "metadata": {},
     "output_type": "display_data"
    },
    {
     "data": {
      "text/html": [
       "<pre>| Initial | 999us        | 2.67274           | 1.40826               |             |</pre>"
      ],
      "text/plain": [
       "| Initial | 999us        | 2.67274           | 1.40826               |             |"
      ]
     },
     "metadata": {},
     "output_type": "display_data"
    },
    {
     "data": {
      "text/html": [
       "<pre>+---------+--------------+-------------------+-----------------------+-------------+</pre>"
      ],
      "text/plain": [
       "+---------+--------------+-------------------+-----------------------+-------------+"
      ]
     },
     "metadata": {},
     "output_type": "display_data"
    },
    {
     "data": {
      "text/html": [
       "<pre>| 1       | 1.996ms      | 4.79189           | 2.05532               | 0.130208    |</pre>"
      ],
      "text/plain": [
       "| 1       | 1.996ms      | 4.79189           | 2.05532               | 0.130208    |"
      ]
     },
     "metadata": {},
     "output_type": "display_data"
    },
    {
     "data": {
      "text/html": [
       "<pre>| 2       | 3.99ms       | 2.61544           | 1.38615               | 0.130208    |</pre>"
      ],
      "text/plain": [
       "| 2       | 3.99ms       | 2.61544           | 1.38615               | 0.130208    |"
      ]
     },
     "metadata": {},
     "output_type": "display_data"
    },
    {
     "data": {
      "text/html": [
       "<pre>| 3       | 4.988ms      | 1.37747           | 0.825659              | 0.130208    |</pre>"
      ],
      "text/plain": [
       "| 3       | 4.988ms      | 1.37747           | 0.825659              | 0.130208    |"
      ]
     },
     "metadata": {},
     "output_type": "display_data"
    },
    {
     "data": {
      "text/html": [
       "<pre>| 4       | 8.978ms      | 0.918678          | 0.494857              | 0.130208    |</pre>"
      ],
      "text/plain": [
       "| 4       | 8.978ms      | 0.918678          | 0.494857              | 0.130208    |"
      ]
     },
     "metadata": {},
     "output_type": "display_data"
    },
    {
     "data": {
      "text/html": [
       "<pre>| 5       | 13.964ms     | 0.98877           | 0.55357               | 0.130208    |</pre>"
      ],
      "text/plain": [
       "| 5       | 13.964ms     | 0.98877           | 0.55357               | 0.130208    |"
      ]
     },
     "metadata": {},
     "output_type": "display_data"
    },
    {
     "data": {
      "text/html": [
       "<pre>| 6       | 19.95ms      | 0.819496          | 0.248108              | 0.130208    |</pre>"
      ],
      "text/plain": [
       "| 6       | 19.95ms      | 0.819496          | 0.248108              | 0.130208    |"
      ]
     },
     "metadata": {},
     "output_type": "display_data"
    },
    {
     "data": {
      "text/html": [
       "<pre>| 11      | 26.93ms      | 0.731905          | 0.230923              | 0.130208    |</pre>"
      ],
      "text/plain": [
       "| 11      | 26.93ms      | 0.731905          | 0.230923              | 0.130208    |"
      ]
     },
     "metadata": {},
     "output_type": "display_data"
    },
    {
     "data": {
      "text/html": [
       "<pre>| 22      | 41.89ms      | DIVERGED          | DIVERGED              | 0.130208    |</pre>"
      ],
      "text/plain": [
       "| 22      | 41.89ms      | DIVERGED          | DIVERGED              | 0.130208    |"
      ]
     },
     "metadata": {},
     "output_type": "display_data"
    },
    {
     "data": {
      "text/html": [
       "<pre>| RESET   | 43.883ms     | 2.67408           | 1.4089                |             |</pre>"
      ],
      "text/plain": [
       "| RESET   | 43.883ms     | 2.67408           | 1.4089                |             |"
      ]
     },
     "metadata": {},
     "output_type": "display_data"
    },
    {
     "data": {
      "text/html": [
       "<pre>+---------+--------------+-------------------+-----------------------+-------------+</pre>"
      ],
      "text/plain": [
       "+---------+--------------+-------------------+-----------------------+-------------+"
      ]
     },
     "metadata": {},
     "output_type": "display_data"
    },
    {
     "data": {
      "text/html": [
       "<pre>Optimization Complete: Maximum number of passes through the data reached (hard limit).</pre>"
      ],
      "text/plain": [
       "Optimization Complete: Maximum number of passes through the data reached (hard limit)."
      ]
     },
     "metadata": {},
     "output_type": "display_data"
    },
    {
     "data": {
      "text/html": [
       "<pre>Computing final objective value and training RMSE.</pre>"
      ],
      "text/plain": [
       "Computing final objective value and training RMSE."
      ]
     },
     "metadata": {},
     "output_type": "display_data"
    },
    {
     "data": {
      "text/html": [
       "<pre>       Final objective value: 0.972165</pre>"
      ],
      "text/plain": [
       "       Final objective value: 0.972165"
      ]
     },
     "metadata": {},
     "output_type": "display_data"
    },
    {
     "data": {
      "text/html": [
       "<pre>       Final training RMSE: 0.289818</pre>"
      ],
      "text/plain": [
       "       Final training RMSE: 0.289818"
      ]
     },
     "metadata": {},
     "output_type": "display_data"
    },
    {
     "data": {
      "text/html": [
       "<div style=\"max-height:1000px;max-width:1500px;overflow:auto;\"><table frame=\"box\" rules=\"cols\">\n",
       "    <tr>\n",
       "        <th style=\"padding-left: 1em; padding-right: 1em; text-align: center\">ID_C</th>\n",
       "        <th style=\"padding-left: 1em; padding-right: 1em; text-align: center\">ID_V</th>\n",
       "        <th style=\"padding-left: 1em; padding-right: 1em; text-align: center\">score</th>\n",
       "    </tr>\n",
       "    <tr>\n",
       "        <td style=\"padding-left: 1em; padding-right: 1em; text-align: center; vertical-align: top\">1</td>\n",
       "        <td style=\"padding-left: 1em; padding-right: 1em; text-align: center; vertical-align: top\">187</td>\n",
       "        <td style=\"padding-left: 1em; padding-right: 1em; text-align: center; vertical-align: top\">6.02449198181</td>\n",
       "    </tr>\n",
       "    <tr>\n",
       "        <td style=\"padding-left: 1em; padding-right: 1em; text-align: center; vertical-align: top\">1</td>\n",
       "        <td style=\"padding-left: 1em; padding-right: 1em; text-align: center; vertical-align: top\">185</td>\n",
       "        <td style=\"padding-left: 1em; padding-right: 1em; text-align: center; vertical-align: top\">6.02439118582</td>\n",
       "    </tr>\n",
       "    <tr>\n",
       "        <td style=\"padding-left: 1em; padding-right: 1em; text-align: center; vertical-align: top\">1</td>\n",
       "        <td style=\"padding-left: 1em; padding-right: 1em; text-align: center; vertical-align: top\">184</td>\n",
       "        <td style=\"padding-left: 1em; padding-right: 1em; text-align: center; vertical-align: top\">6.02435047292</td>\n",
       "    </tr>\n",
       "    <tr>\n",
       "        <td style=\"padding-left: 1em; padding-right: 1em; text-align: center; vertical-align: top\">1</td>\n",
       "        <td style=\"padding-left: 1em; padding-right: 1em; text-align: center; vertical-align: top\">191</td>\n",
       "        <td style=\"padding-left: 1em; padding-right: 1em; text-align: center; vertical-align: top\">6.02410196657</td>\n",
       "    </tr>\n",
       "    <tr>\n",
       "        <td style=\"padding-left: 1em; padding-right: 1em; text-align: center; vertical-align: top\">1</td>\n",
       "        <td style=\"padding-left: 1em; padding-right: 1em; text-align: center; vertical-align: top\">182</td>\n",
       "        <td style=\"padding-left: 1em; padding-right: 1em; text-align: center; vertical-align: top\">6.02405230114</td>\n",
       "    </tr>\n",
       "    <tr>\n",
       "        <td style=\"padding-left: 1em; padding-right: 1em; text-align: center; vertical-align: top\">1</td>\n",
       "        <td style=\"padding-left: 1em; padding-right: 1em; text-align: center; vertical-align: top\">194</td>\n",
       "        <td style=\"padding-left: 1em; padding-right: 1em; text-align: center; vertical-align: top\">6.02386256043</td>\n",
       "    </tr>\n",
       "    <tr>\n",
       "        <td style=\"padding-left: 1em; padding-right: 1em; text-align: center; vertical-align: top\">1</td>\n",
       "        <td style=\"padding-left: 1em; padding-right: 1em; text-align: center; vertical-align: top\">188</td>\n",
       "        <td style=\"padding-left: 1em; padding-right: 1em; text-align: center; vertical-align: top\">6.0238625507</td>\n",
       "    </tr>\n",
       "    <tr>\n",
       "        <td style=\"padding-left: 1em; padding-right: 1em; text-align: center; vertical-align: top\">1</td>\n",
       "        <td style=\"padding-left: 1em; padding-right: 1em; text-align: center; vertical-align: top\">186</td>\n",
       "        <td style=\"padding-left: 1em; padding-right: 1em; text-align: center; vertical-align: top\">6.02384398164</td>\n",
       "    </tr>\n",
       "    <tr>\n",
       "        <td style=\"padding-left: 1em; padding-right: 1em; text-align: center; vertical-align: top\">1</td>\n",
       "        <td style=\"padding-left: 1em; padding-right: 1em; text-align: center; vertical-align: top\">193</td>\n",
       "        <td style=\"padding-left: 1em; padding-right: 1em; text-align: center; vertical-align: top\">6.0237651339</td>\n",
       "    </tr>\n",
       "    <tr>\n",
       "        <td style=\"padding-left: 1em; padding-right: 1em; text-align: center; vertical-align: top\">1</td>\n",
       "        <td style=\"padding-left: 1em; padding-right: 1em; text-align: center; vertical-align: top\">190</td>\n",
       "        <td style=\"padding-left: 1em; padding-right: 1em; text-align: center; vertical-align: top\">6.02363283925</td>\n",
       "    </tr>\n",
       "</table>\n",
       "[10 rows x 3 columns]<br/>\n",
       "</div>"
      ],
      "text/plain": [
       "Columns:\n",
       "\tID_C\tint\n",
       "\tID_V\tint\n",
       "\tscore\tfloat\n",
       "\n",
       "Rows: 10\n",
       "\n",
       "Data:\n",
       "+------+------+---------------+\n",
       "| ID_C | ID_V |     score     |\n",
       "+------+------+---------------+\n",
       "|  1   | 187  | 6.02449198181 |\n",
       "|  1   | 185  | 6.02439118582 |\n",
       "|  1   | 184  | 6.02435047292 |\n",
       "|  1   | 191  | 6.02410196657 |\n",
       "|  1   | 182  | 6.02405230114 |\n",
       "|  1   | 194  | 6.02386256043 |\n",
       "|  1   | 188  |  6.0238625507 |\n",
       "|  1   | 186  | 6.02384398164 |\n",
       "|  1   | 193  |  6.0237651339 |\n",
       "|  1   | 190  | 6.02363283925 |\n",
       "+------+------+---------------+\n",
       "[10 rows x 3 columns]"
      ]
     },
     "execution_count": 7,
     "metadata": {},
     "output_type": "execute_result"
    }
   ],
   "source": [
    "import io, os, sys, types\n",
    "import graphlab as gl\n",
    "from datetime import datetime\n",
    "from os import path\n",
    "import numpy as np\n",
    "import import_ipynb\n",
    "from decimal import *\n",
    "import Conn_E_SQL as Conn\n",
    "import Creacion_Vectores as C_V\n",
    "import Normalizacion as Norm\n",
    "from collections import OrderedDict\n",
    "import operator\n",
    "\n",
    "#Atributos de BD\n",
    "host=\"localhost\"\n",
    "user=\"root\"\n",
    "passwd=\"dH4Zr2K2W\"\n",
    "database=\"recomendacion\"\n",
    "table= \"CBF\"\n",
    "\n",
    "#Atributos de XML o consola\n",
    "\n",
    "print (\"Quieres ver apartamentos fuera de tu zona de escogencia?\")\n",
    "visualization=int(input())\n",
    "Type=2\n",
    "\n",
    "#Atributos de Vivienda\n",
    "\n",
    "Vector_BD_Vivienda= Conn.Conexion_BD(host,user,passwd,database,table)\n",
    "apartment_file_processed= gl.SFrame(C_V.Creacion_Vector_Apartamento(Vector_BD_Vivienda))\n",
    "apartment_file_normalized=gl.SFrame(Norm.norm_apartment_matrix(apartment_file_processed))\n",
    "Vector_IDF=[]\n",
    "Vector_IDF=Norm.Inv_DF(apartment_file_processed)\n",
    "\n",
    "#Atributos de Clientes\n",
    "\n",
    "clientfile=\"C:\\\\Users\\\\user\\\\Documents\\\\Sistema de Recomendacion\\\\Single_Client_raw.csv\"\n",
    "client_file_processed=gl.SFrame(C_V.Creacion_Vector_Cliente(clientfile))\n",
    "client_array=client_file_processed[\"ID_C\"]\n",
    "client_number=client_array[0]\n",
    "zona_array=client_file_processed[\"Zona\"]\n",
    "zona_number=zona_array[0]\n",
    "\n",
    "#Atributos de Rating\n",
    "\n",
    "Vector_Ratings_BD=Conn.Conexion_BD_rating(client_number, host, user, passwd, database, table)\n",
    "client_rating=C_V.Creacion_Matrix_Rating(Vector_Ratings_BD)\n",
    "\n",
    "#Atributos de Ratings\n",
    "\n",
    "Vector_Ratings_BD=Conn.Conexion_BD_ratings(host, user, passwd, database, table)\n",
    "clients_ratings=C_V.Creacion_Matrix_Rating(Vector_Ratings_BD)\n",
    "print(clients_ratings)\n",
    "\n",
    "class recommenders:\n",
    "    \n",
    "    def item_ranking (self, apartment_file_processed,client_file_processed,client_rating,visualization):\n",
    "        \n",
    "        #Creacion de SFrames\n",
    "        \n",
    "        recommender_matrix=gl.SFrame()\n",
    "        \n",
    "        #Asignacion de Arrays\n",
    "        client_array=client_file_processed[\"ID_C\"]\n",
    "        client_number=client_array[0]\n",
    "        zona_array=client_file_processed[\"Zona\"]\n",
    "        client_zona=zona_array[0]\n",
    "        \n",
    "        #Visualizacion por Zona\n",
    "        if (visualization==0):\n",
    "            apartment_file_processed=apartment_file_processed[apartment_file_processed[\"Zona\"] == client_zona]\n",
    "        \n",
    "        #Creacion de Modelo de Recomendacion por factorizacion\n",
    "                       \n",
    "        apartment_fact_recommender= gl.ranking_factorization_recommender.create(client_rating,user_id=\"ID_C\",item_id=\"ID_V\",target=\"Rating\",\n",
    "                                                                            user_data=client_file_processed,\n",
    "                                                                            item_data=apartment_file_processed,\n",
    "                                                                            ranking_regularization = 0.1,\n",
    "                                                                            unobserved_rating_value = 1)   \n",
    "                                                                            \n",
    "        \n",
    "              \n",
    "        recommender_matrix=apartment_fact_recommender.recommend([client_number])\n",
    "        recommender_matrix.remove_column('rank')\n",
    "        \n",
    "        return recommender_matrix.topk('score', k=20)\n",
    "    \n",
    "    def collaborative_ranking (self, apartment_file_processed,clients_file_processed,clients_rating,visualization):\n",
    "         \n",
    "        print (\"Ingresa la zona donde quieres ver las viviendas que compran personas parecidas a tu perfil?\")\n",
    "        zona=int(input())\n",
    "        client_number=10\n",
    "        \n",
    "        #Creacion de SFrames\n",
    "        \n",
    "        recommender_matrix=gl.SFrame()\n",
    "                    \n",
    "        #Visualizacion por Zona\n",
    "        if (visualization==0):\n",
    "            apartment_file_processed=apartment_file_processed[apartment_file_processed[\"Zona\"] == zona]\n",
    "        \n",
    "        #Creacion de Modelo de Recomendacion por Colaboracion\n",
    "                       \n",
    "        apartment_collaborative_recommender= gl.item_similarity_recommender.create(clients_rating,user_id=\"ID_C\",item_id=\"ID_V\",target=\"Rating\",\n",
    "                                                                            user_data=clients_file_processed,\n",
    "                                                                            item_data=apartment_file_processed)   \n",
    "                                                                            \n",
    "        \n",
    "              \n",
    "        recommender_matrix=apartment_collaborative_recommender.recommend([client_number])\n",
    "                                                   \n",
    "        return recommender_matrix.topk('score', k=20)\n",
    "    \n",
    "    def non_personalized_ranking (self, apartment_file_processed,clients_file_processed,clients_rating, client_number):\n",
    "        \n",
    "        print (\"Ingresa la zona donde quieres ver las viviendas mas populares ?\")\n",
    "        zona=int(input())\n",
    "                \n",
    "        #Creacion de SFrames\n",
    "        \n",
    "        recommender_matrix=gl.SFrame()\n",
    "        clients_ratings_zone=gl.SFrame()        \n",
    "        \n",
    "        #Visualizacion por Zona\n",
    "        apartment_file_processed=apartment_file_processed[apartment_file_processed[\"Zona\"] == zona]\n",
    "        zonas_ID= apartment_file_processed[\"ID_V\"]\n",
    "                \n",
    "        #Modificacion de la matriz client\n",
    "        \n",
    "        clients_ratings_zone=clients_rating.filter_by(zonas_ID, 'ID_V')\n",
    "        \n",
    "              \n",
    "        #Creacion de Modelo de Recomendacion por Colaboracion\n",
    "                       \n",
    "        apartment_popularity_recommender= gl.recommender.popularity_recommender.create(clients_ratings_zone,user_id=\"ID_C\",item_id=\"ID_V\",target=\"Rating\",\n",
    "                                                                            user_data=clients_file_processed,\n",
    "                                                                            item_data=apartment_file_processed)   \n",
    "                                                                            \n",
    "        \n",
    "              \n",
    "        recommender_matrix=apartment_popularity_recommender.recommend([client_number])\n",
    "        recommender_matrix=recommender_matrix.remove_column(\"ID_C\")\n",
    "        return recommender_matrix.topk('score', k=20)\n",
    "    \n",
    "#d=recommenders()\n",
    "#e=recommenders()\n",
    "f=recommenders()\n",
    "#d.item_ranking(apartment_file_processed,client_file_processed,client_rating,visualization)\n",
    "#e.collaborative_ranking(apartment_file_processed,clients_file_processed,clients_rating,visualization)\n",
    "f.non_personalized_ranking(apartment_file_processed,clients_file_processed,clients_rating)"
   ]
  },
  {
   "cell_type": "code",
   "execution_count": null,
   "metadata": {
    "collapsed": true
   },
   "outputs": [],
   "source": []
  },
  {
   "cell_type": "code",
   "execution_count": null,
   "metadata": {
    "collapsed": true
   },
   "outputs": [],
   "source": []
  }
 ],
 "metadata": {
  "kernelspec": {
   "display_name": "Python 2",
   "language": "python",
   "name": "python2"
  },
  "language_info": {
   "codemirror_mode": {
    "name": "ipython",
    "version": 2
   },
   "file_extension": ".py",
   "mimetype": "text/x-python",
   "name": "python",
   "nbconvert_exporter": "python",
   "pygments_lexer": "ipython2",
   "version": "2.7.11"
  }
 },
 "nbformat": 4,
 "nbformat_minor": 0
}
