{
 "cells": [
  {
   "cell_type": "code",
   "execution_count": 7,
   "metadata": {
    "collapsed": false
   },
   "outputs": [
    {
     "data": {
      "text/html": [
       "<pre>Finished parsing file C:\\Users\\user\\Documents\\Sistema de Recomendacion\\Single_Client_raw.csv</pre>"
      ],
      "text/plain": [
       "Finished parsing file C:\\Users\\user\\Documents\\Sistema de Recomendacion\\Single_Client_raw.csv"
      ]
     },
     "metadata": {},
     "output_type": "display_data"
    },
    {
     "data": {
      "text/html": [
       "<pre>Parsing completed. Parsed 1 lines in 0.05086 secs.</pre>"
      ],
      "text/plain": [
       "Parsing completed. Parsed 1 lines in 0.05086 secs."
      ]
     },
     "metadata": {},
     "output_type": "display_data"
    },
    {
     "name": "stdout",
     "output_type": "stream",
     "text": [
      "------------------------------------------------------\n",
      "Inferred types from first 100 line(s) of file as \n",
      "column_type_hints=[long,long,long,long,long,long,long,long,long,long,long,long,long,long,long]\n",
      "If parsing fails due to incorrect types, you can correct\n",
      "the inferred type list above and pass it to read_csv in\n",
      "the column_type_hints argument\n",
      "------------------------------------------------------\n"
     ]
    },
    {
     "data": {
      "text/html": [
       "<pre>Finished parsing file C:\\Users\\user\\Documents\\Sistema de Recomendacion\\Single_Client_raw.csv</pre>"
      ],
      "text/plain": [
       "Finished parsing file C:\\Users\\user\\Documents\\Sistema de Recomendacion\\Single_Client_raw.csv"
      ]
     },
     "metadata": {},
     "output_type": "display_data"
    },
    {
     "data": {
      "text/html": [
       "<pre>Parsing completed. Parsed 1 lines in 0.064858 secs.</pre>"
      ],
      "text/plain": [
       "Parsing completed. Parsed 1 lines in 0.064858 secs."
      ]
     },
     "metadata": {},
     "output_type": "display_data"
    },
    {
     "name": "stdout",
     "output_type": "stream",
     "text": [
      "0\n"
     ]
    },
    {
     "data": {
      "text/html": [
       "<pre>Recsys training: model = popularity</pre>"
      ],
      "text/plain": [
       "Recsys training: model = popularity"
      ]
     },
     "metadata": {},
     "output_type": "display_data"
    },
    {
     "data": {
      "text/html": [
       "<pre>Preparing data set.</pre>"
      ],
      "text/plain": [
       "Preparing data set."
      ]
     },
     "metadata": {},
     "output_type": "display_data"
    },
    {
     "data": {
      "text/html": [
       "<pre>    Data has 22 observations with 10 users and 381 items.</pre>"
      ],
      "text/plain": [
       "    Data has 22 observations with 10 users and 381 items."
      ]
     },
     "metadata": {},
     "output_type": "display_data"
    },
    {
     "data": {
      "text/html": [
       "<pre>    Data prepared in: 0.101728s</pre>"
      ],
      "text/plain": [
       "    Data prepared in: 0.101728s"
      ]
     },
     "metadata": {},
     "output_type": "display_data"
    },
    {
     "data": {
      "text/html": [
       "<pre>22 observations to process; with 381 unique items.</pre>"
      ],
      "text/plain": [
       "22 observations to process; with 381 unique items."
      ]
     },
     "metadata": {},
     "output_type": "display_data"
    },
    {
     "data": {
      "text/html": [
       "<div style=\"max-height:1000px;max-width:1500px;overflow:auto;\"><table frame=\"box\" rules=\"cols\">\n",
       "    <tr>\n",
       "        <th style=\"padding-left: 1em; padding-right: 1em; text-align: center\">ID_V</th>\n",
       "        <th style=\"padding-left: 1em; padding-right: 1em; text-align: center\">score</th>\n",
       "    </tr>\n",
       "    <tr>\n",
       "        <td style=\"padding-left: 1em; padding-right: 1em; text-align: center; vertical-align: top\">283</td>\n",
       "        <td style=\"padding-left: 1em; padding-right: 1em; text-align: center; vertical-align: top\">5.0</td>\n",
       "    </tr>\n",
       "    <tr>\n",
       "        <td style=\"padding-left: 1em; padding-right: 1em; text-align: center; vertical-align: top\">211</td>\n",
       "        <td style=\"padding-left: 1em; padding-right: 1em; text-align: center; vertical-align: top\">5.0</td>\n",
       "    </tr>\n",
       "    <tr>\n",
       "        <td style=\"padding-left: 1em; padding-right: 1em; text-align: center; vertical-align: top\">68</td>\n",
       "        <td style=\"padding-left: 1em; padding-right: 1em; text-align: center; vertical-align: top\">5.0</td>\n",
       "    </tr>\n",
       "    <tr>\n",
       "        <td style=\"padding-left: 1em; padding-right: 1em; text-align: center; vertical-align: top\">44</td>\n",
       "        <td style=\"padding-left: 1em; padding-right: 1em; text-align: center; vertical-align: top\">5.0</td>\n",
       "    </tr>\n",
       "    <tr>\n",
       "        <td style=\"padding-left: 1em; padding-right: 1em; text-align: center; vertical-align: top\">30</td>\n",
       "        <td style=\"padding-left: 1em; padding-right: 1em; text-align: center; vertical-align: top\">5.0</td>\n",
       "    </tr>\n",
       "    <tr>\n",
       "        <td style=\"padding-left: 1em; padding-right: 1em; text-align: center; vertical-align: top\">4</td>\n",
       "        <td style=\"padding-left: 1em; padding-right: 1em; text-align: center; vertical-align: top\">5.0</td>\n",
       "    </tr>\n",
       "    <tr>\n",
       "        <td style=\"padding-left: 1em; padding-right: 1em; text-align: center; vertical-align: top\">272</td>\n",
       "        <td style=\"padding-left: 1em; padding-right: 1em; text-align: center; vertical-align: top\">4.0</td>\n",
       "    </tr>\n",
       "    <tr>\n",
       "        <td style=\"padding-left: 1em; padding-right: 1em; text-align: center; vertical-align: top\">250</td>\n",
       "        <td style=\"padding-left: 1em; padding-right: 1em; text-align: center; vertical-align: top\">4.0</td>\n",
       "    </tr>\n",
       "    <tr>\n",
       "        <td style=\"padding-left: 1em; padding-right: 1em; text-align: center; vertical-align: top\">217</td>\n",
       "        <td style=\"padding-left: 1em; padding-right: 1em; text-align: center; vertical-align: top\">4.0</td>\n",
       "    </tr>\n",
       "    <tr>\n",
       "        <td style=\"padding-left: 1em; padding-right: 1em; text-align: center; vertical-align: top\">139</td>\n",
       "        <td style=\"padding-left: 1em; padding-right: 1em; text-align: center; vertical-align: top\">4.0</td>\n",
       "    </tr>\n",
       "</table>\n",
       "[10 rows x 2 columns]<br/>\n",
       "</div>"
      ],
      "text/plain": [
       "Columns:\n",
       "\tID_V\tint\n",
       "\tscore\tfloat\n",
       "\n",
       "Rows: 10\n",
       "\n",
       "Data:\n",
       "+------+-------+\n",
       "| ID_V | score |\n",
       "+------+-------+\n",
       "| 283  |  5.0  |\n",
       "| 211  |  5.0  |\n",
       "|  68  |  5.0  |\n",
       "|  44  |  5.0  |\n",
       "|  30  |  5.0  |\n",
       "|  4   |  5.0  |\n",
       "| 272  |  4.0  |\n",
       "| 250  |  4.0  |\n",
       "| 217  |  4.0  |\n",
       "| 139  |  4.0  |\n",
       "+------+-------+\n",
       "[10 rows x 2 columns]"
      ]
     },
     "execution_count": 7,
     "metadata": {},
     "output_type": "execute_result"
    }
   ],
   "source": [
    "import io, os, sys, types\n",
    "import graphlab as gl\n",
    "from datetime import datetime\n",
    "from os import path\n",
    "import numpy as np\n",
    "import import_ipynb\n",
    "from decimal import *\n",
    "import Conn_E_SQL as Conn\n",
    "import Creacion_Vectores as C_V\n",
    "import Normalizacion as Norm\n",
    "from collections import OrderedDict\n",
    "import operator\n",
    "\n",
    "#Atributos de BD\n",
    "host=\"recomdb.c4v5c6aergun.us-west-2.rds.amazonaws.com\"\n",
    "user=\"imaginex\"\n",
    "passwd=\"6^b{X2Du)Qf6\"\n",
    "database=\"RecomDB\"\n",
    "table= \"CBF\"\n",
    "\n",
    "#Atributos de XML o consola\n",
    "\n",
    "Type=2\n",
    "\n",
    "#Atributos de Vivienda\n",
    "\n",
    "Vector_BD_Vivienda= Conn.Conexion_BD(host,user,passwd,database,table)\n",
    "apartment_file_processed= gl.SFrame(C_V.Creacion_Vector_Apartamento(Vector_BD_Vivienda))\n",
    "apartment_file_normalized=gl.SFrame(Norm.norm_apartment_matrix(apartment_file_processed))\n",
    "Vector_IDF=[]\n",
    "Vector_IDF=Norm.Inv_DF(apartment_file_processed)\n",
    "\n",
    "#Atributos de Cliente\n",
    "\n",
    "clientfile=\"C:\\\\Users\\\\user\\\\Documents\\\\Sistema de Recomendacion\\\\Single_Client_raw.csv\"\n",
    "client_file_processed=gl.SFrame(C_V.Creacion_Vector_Cliente(clientfile))\n",
    "client_array=client_file_processed[\"ID_C\"]\n",
    "client_number=client_array[0]\n",
    "zona_array=client_file_processed[\"Zona\"]\n",
    "zona_number=zona_array[0]\n",
    "\n",
    "#Atributos de Clientes\n",
    "\n",
    "Vector_Clientes_BD= Conn.Conexion_BD_clients (host, user, passwd, database, table)\n",
    "clients_SF_processed=gl.SFrame(C_V.Creacion_BD_Clientes(Vector_Clientes_BD))\n",
    "\n",
    "#Atributos de Rating\n",
    "\n",
    "Vector_Ratings_BD=Conn.Conexion_BD_rating(client_number, host, user, passwd, database, table)\n",
    "client_rating=C_V.Creacion_Matrix_Rating(Vector_Ratings_BD)\n",
    "\n",
    "#Atributos de Ratings\n",
    "\n",
    "Vector_Ratings_BD=Conn.Conexion_BD_ratings(host, user, passwd, database, table)\n",
    "clients_ratings=C_V.Creacion_Matrix_Rating(Vector_Ratings_BD)\n",
    "\n",
    "\n",
    "class recommenders:\n",
    "    \n",
    "    def item_ranking (self, apartment_file_processed,client_number,zona_number,client_rating):\n",
    "        \n",
    "        #Creacion de SFrames\n",
    "        \n",
    "        recommender_matrix=gl.SFrame()\n",
    "                \n",
    "        #Visualizacion por Zona\n",
    "        if (zona_number != 0):\n",
    "            apartment_file_processed=apartment_file_processed[apartment_file_processed[\"Zona\"] == zona_number]\n",
    "                \n",
    "        #Creacion de Modelo de Recomendacion por factorizacion\n",
    "                       \n",
    "        apartment_fact_recommender= gl.ranking_factorization_recommender.create(client_rating,user_id=\"ID_C\",item_id=\"ID_V\",target=\"rating\",\n",
    "                                                                            item_data=apartment_file_processed,\n",
    "                                                                            ranking_regularization = 0.1,\n",
    "                                                                            unobserved_rating_value = 1)   \n",
    "                                                                            \n",
    "        \n",
    "              \n",
    "        recommender_matrix=apartment_fact_recommender.recommend([client_number])\n",
    "        \n",
    "        recommender_matrix.remove_column('rank')\n",
    "        \n",
    "        return recommender_matrix.topk('score', k=20)\n",
    "    \n",
    "    def collaborative_ranking (self, apartment_file_processed, client_file_processed,clients_SF_processed,clients_ratings,visualization):\n",
    "         \n",
    "        print (\"Ingresa la zona donde quieres ver las viviendas que compran personas parecidas a tu perfil?\")\n",
    "        zona=int(input())\n",
    "        client_array=client_file_processed[\"ID_C\"]\n",
    "        client_number=client_array[0]\n",
    "        \n",
    "        #Creacion de SFrames\n",
    "        \n",
    "        recommender_matrix=gl.SFrame()\n",
    "                    \n",
    "        #Visualizacion por Zona\n",
    "        if (visualization==0):\n",
    "            apartment_file_processed=apartment_file_processed[apartment_file_processed[\"Zona\"] == zona]\n",
    "        \n",
    "        #Creacion de Modelo de Recomendacion por Colaboracion\n",
    "                       \n",
    "        apartment_collaborative_recommender= gl.item_similarity_recommender.create(clients_ratings,user_id=\"ID_C\",item_id=\"ID_V\",target=\"rating\",\n",
    "                                                                            user_data=clients_SF_processed,\n",
    "                                                                            item_data=apartment_file_processed)   \n",
    "                                                                            \n",
    "        \n",
    "              \n",
    "        recommender_matrix=apartment_collaborative_recommender.recommend([client_number])\n",
    "                                                   \n",
    "        recommender_matrix.remove_column('rank')\n",
    "        \n",
    "        return recommender_matrix.topk('score', k=20)\n",
    "    \n",
    "    def non_personalized_ranking (self, apartment_file_processed,clients_SF_processed,clients_ratings,client_number, zona_number):\n",
    "        \n",
    "                     \n",
    "        #Creacion de SFrames\n",
    "        \n",
    "        recommender_matrix=gl.SFrame()\n",
    "        clients_ratings_zone=gl.SFrame()        \n",
    "        \n",
    "        #Visualizacion por Zona\n",
    "        if(zona_number!=0):\n",
    "            apartment_file_processed=apartment_file_processed[apartment_file_processed[\"Zona\"] == zona_number]\n",
    "            zonas_ID= apartment_file_processed[\"ID_V\"]\n",
    "        else:\n",
    "            zonas_ID= apartment_file_processed[\"ID_V\"]\n",
    "            \n",
    "        #Modificacion de la matriz client\n",
    "        \n",
    "        clients_ratings_zone=clients_ratings.filter_by(zonas_ID, 'ID_V')\n",
    "        \n",
    "              \n",
    "        #Creacion de Modelo de Recomendacion por Colaboracion\n",
    "                       \n",
    "        apartment_popularity_recommender= gl.recommender.popularity_recommender.create(clients_ratings_zone,user_id=\"ID_C\",item_id=\"ID_V\",target=\"rating\",\n",
    "                                                                            user_data=clients_SF_processed,\n",
    "                                                                            item_data=apartment_file_processed)   \n",
    "                                                                            \n",
    "        \n",
    "              \n",
    "        recommender_matrix=apartment_popularity_recommender.recommend([client_number])\n",
    "        recommender_matrix=recommender_matrix.remove_column(\"ID_C\")\n",
    "        recommender_matrix.remove_column('rank')\n",
    "        return recommender_matrix.topk('score', k=20)\n",
    "    \n"
   ]
  },
  {
   "cell_type": "code",
   "execution_count": null,
   "metadata": {
    "collapsed": true
   },
   "outputs": [],
   "source": []
  },
  {
   "cell_type": "code",
   "execution_count": null,
   "metadata": {
    "collapsed": true
   },
   "outputs": [],
   "source": []
  }
 ],
 "metadata": {
  "kernelspec": {
   "display_name": "Python 2",
   "language": "python",
   "name": "python2"
  },
  "language_info": {
   "codemirror_mode": {
    "name": "ipython",
    "version": 2
   },
   "file_extension": ".py",
   "mimetype": "text/x-python",
   "name": "python",
   "nbconvert_exporter": "python",
   "pygments_lexer": "ipython2",
   "version": "2.7.11"
  }
 },
 "nbformat": 4,
 "nbformat_minor": 0
}
