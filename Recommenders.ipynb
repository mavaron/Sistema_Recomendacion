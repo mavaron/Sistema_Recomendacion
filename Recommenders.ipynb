{
 "cells": [
  {
   "cell_type": "code",
   "execution_count": 2,
   "metadata": {
    "collapsed": false
   },
   "outputs": [
    {
     "name": "stdout",
     "output_type": "stream",
     "text": [
      "Quieres ver apartamentos fuera de tu zona de escogencia?\n",
      "1\n"
     ]
    },
    {
     "data": {
      "text/html": [
       "<pre>Finished parsing file C:\\Users\\user\\Documents\\Sistema de Recomendacion\\Single_Client_raw.csv</pre>"
      ],
      "text/plain": [
       "Finished parsing file C:\\Users\\user\\Documents\\Sistema de Recomendacion\\Single_Client_raw.csv"
      ]
     },
     "metadata": {},
     "output_type": "display_data"
    },
    {
     "data": {
      "text/html": [
       "<pre>Parsing completed. Parsed 1 lines in 0.052893 secs.</pre>"
      ],
      "text/plain": [
       "Parsing completed. Parsed 1 lines in 0.052893 secs."
      ]
     },
     "metadata": {},
     "output_type": "display_data"
    },
    {
     "name": "stdout",
     "output_type": "stream",
     "text": [
      "------------------------------------------------------\n",
      "Inferred types from first 100 line(s) of file as \n",
      "column_type_hints=[long,long,long,long,long,long,long,long,long,long,long,long,long,long,long]\n",
      "If parsing fails due to incorrect types, you can correct\n",
      "the inferred type list above and pass it to read_csv in\n",
      "the column_type_hints argument\n",
      "------------------------------------------------------\n"
     ]
    },
    {
     "data": {
      "text/html": [
       "<pre>Finished parsing file C:\\Users\\user\\Documents\\Sistema de Recomendacion\\Single_Client_raw.csv</pre>"
      ],
      "text/plain": [
       "Finished parsing file C:\\Users\\user\\Documents\\Sistema de Recomendacion\\Single_Client_raw.csv"
      ]
     },
     "metadata": {},
     "output_type": "display_data"
    },
    {
     "data": {
      "text/html": [
       "<pre>Parsing completed. Parsed 1 lines in 0.062831 secs.</pre>"
      ],
      "text/plain": [
       "Parsing completed. Parsed 1 lines in 0.062831 secs."
      ]
     },
     "metadata": {},
     "output_type": "display_data"
    },
    {
     "data": {
      "text/html": [
       "<pre>Recsys training: model = ranking_factorization_recommender</pre>"
      ],
      "text/plain": [
       "Recsys training: model = ranking_factorization_recommender"
      ]
     },
     "metadata": {},
     "output_type": "display_data"
    },
    {
     "name": "stderr",
     "output_type": "stream",
     "text": [
      "[ERROR] graphlab.toolkits._main: Toolkit error: Target column given as 'rating', but this is not present in the provided data.\n"
     ]
    },
    {
     "ename": "ToolkitError",
     "evalue": "Target column given as 'rating', but this is not present in the provided data.",
     "output_type": "error",
     "traceback": [
      "\u001b[1;31m---------------------------------------------------------------------------\u001b[0m",
      "\u001b[1;31mToolkitError\u001b[0m                              Traceback (most recent call last)",
      "\u001b[1;32m<ipython-input-2-138e3500e156>\u001b[0m in \u001b[0;36m<module>\u001b[1;34m()\u001b[0m\n\u001b[0;32m    145\u001b[0m \u001b[1;31m#e=recommenders()\u001b[0m\u001b[1;33m\u001b[0m\u001b[1;33m\u001b[0m\u001b[0m\n\u001b[0;32m    146\u001b[0m \u001b[1;31m#f=recommenders()\u001b[0m\u001b[1;33m\u001b[0m\u001b[1;33m\u001b[0m\u001b[0m\n\u001b[1;32m--> 147\u001b[1;33m \u001b[0md\u001b[0m\u001b[1;33m.\u001b[0m\u001b[0mitem_ranking\u001b[0m\u001b[1;33m(\u001b[0m\u001b[0mapartment_file_processed\u001b[0m\u001b[1;33m,\u001b[0m\u001b[0mclient_file_processed\u001b[0m\u001b[1;33m,\u001b[0m\u001b[0mclient_rating\u001b[0m\u001b[1;33m,\u001b[0m\u001b[0mvisualization\u001b[0m\u001b[1;33m)\u001b[0m\u001b[1;33m\u001b[0m\u001b[0m\n\u001b[0m\u001b[0;32m    148\u001b[0m \u001b[1;31m#e.collaborative_ranking(apartment_file_processed,clients_file_processed,clients_rating,visualization)\u001b[0m\u001b[1;33m\u001b[0m\u001b[1;33m\u001b[0m\u001b[0m\n\u001b[0;32m    149\u001b[0m \u001b[1;31m#f.non_personalized_ranking(apartment_file_processed,clients_file_processed,clients_rating)\u001b[0m\u001b[1;33m\u001b[0m\u001b[1;33m\u001b[0m\u001b[0m\n",
      "\u001b[1;32m<ipython-input-2-138e3500e156>\u001b[0m in \u001b[0;36mitem_ranking\u001b[1;34m(self, apartment_file_processed, client_file_processed, client_rating, visualization)\u001b[0m\n\u001b[0;32m     76\u001b[0m                                                                             \u001b[0mitem_data\u001b[0m\u001b[1;33m=\u001b[0m\u001b[0mapartment_file_processed\u001b[0m\u001b[1;33m,\u001b[0m\u001b[1;33m\u001b[0m\u001b[0m\n\u001b[0;32m     77\u001b[0m                                                                             \u001b[0mranking_regularization\u001b[0m \u001b[1;33m=\u001b[0m \u001b[1;36m0.1\u001b[0m\u001b[1;33m,\u001b[0m\u001b[1;33m\u001b[0m\u001b[0m\n\u001b[1;32m---> 78\u001b[1;33m                                                                             unobserved_rating_value = 1)   \n\u001b[0m\u001b[0;32m     79\u001b[0m \u001b[1;33m\u001b[0m\u001b[0m\n\u001b[0;32m     80\u001b[0m \u001b[1;33m\u001b[0m\u001b[0m\n",
      "\u001b[1;32mC:\\Users\\user\\Anaconda2\\envs\\gl-env\\lib\\site-packages\\graphlab\\toolkits\\recommender\\ranking_factorization_recommender.pyc\u001b[0m in \u001b[0;36mcreate\u001b[1;34m(observation_data, user_id, item_id, target, user_data, item_data, num_factors, regularization, linear_regularization, side_data_factorization, ranking_regularization, unobserved_rating_value, num_sampled_negative_examples, max_iterations, sgd_step_size, random_seed, binary_target, solver, verbose, **kwargs)\u001b[0m\n\u001b[0;32m    267\u001b[0m         \u001b[0mopts\u001b[0m\u001b[1;33m.\u001b[0m\u001b[0mupdate\u001b[0m\u001b[1;33m(\u001b[0m\u001b[0mkwargs\u001b[0m\u001b[1;33m)\u001b[0m\u001b[1;33m\u001b[0m\u001b[0m\n\u001b[0;32m    268\u001b[0m \u001b[1;33m\u001b[0m\u001b[0m\n\u001b[1;32m--> 269\u001b[1;33m     \u001b[0mresponse\u001b[0m \u001b[1;33m=\u001b[0m \u001b[0m_graphlab\u001b[0m\u001b[1;33m.\u001b[0m\u001b[0mtoolkits\u001b[0m\u001b[1;33m.\u001b[0m\u001b[0m_main\u001b[0m\u001b[1;33m.\u001b[0m\u001b[0mrun\u001b[0m\u001b[1;33m(\u001b[0m\u001b[1;34m'recsys_train'\u001b[0m\u001b[1;33m,\u001b[0m \u001b[0mopts\u001b[0m\u001b[1;33m,\u001b[0m \u001b[0mverbose\u001b[0m\u001b[1;33m)\u001b[0m\u001b[1;33m\u001b[0m\u001b[0m\n\u001b[0m\u001b[0;32m    270\u001b[0m \u001b[1;33m\u001b[0m\u001b[0m\n\u001b[0;32m    271\u001b[0m     \u001b[1;32mreturn\u001b[0m \u001b[0mRankingFactorizationRecommender\u001b[0m\u001b[1;33m(\u001b[0m\u001b[0mresponse\u001b[0m\u001b[1;33m[\u001b[0m\u001b[1;34m'model'\u001b[0m\u001b[1;33m]\u001b[0m\u001b[1;33m)\u001b[0m\u001b[1;33m\u001b[0m\u001b[0m\n",
      "\u001b[1;32mC:\\Users\\user\\Anaconda2\\envs\\gl-env\\lib\\site-packages\\graphlab\\toolkits\\_main.pyc\u001b[0m in \u001b[0;36mrun\u001b[1;34m(toolkit_name, options, verbose, show_progress)\u001b[0m\n\u001b[0;32m     87\u001b[0m         \u001b[0m_get_metric_tracker\u001b[0m\u001b[1;33m(\u001b[0m\u001b[1;33m)\u001b[0m\u001b[1;33m.\u001b[0m\u001b[0mtrack\u001b[0m\u001b[1;33m(\u001b[0m\u001b[0mmetric_name\u001b[0m\u001b[1;33m,\u001b[0m \u001b[0mvalue\u001b[0m\u001b[1;33m=\u001b[0m\u001b[1;36m1\u001b[0m\u001b[1;33m,\u001b[0m \u001b[0mproperties\u001b[0m\u001b[1;33m=\u001b[0m\u001b[0mtrack_props\u001b[0m\u001b[1;33m,\u001b[0m \u001b[0msend_sys_info\u001b[0m\u001b[1;33m=\u001b[0m\u001b[0mFalse\u001b[0m\u001b[1;33m)\u001b[0m\u001b[1;33m\u001b[0m\u001b[0m\n\u001b[0;32m     88\u001b[0m \u001b[1;33m\u001b[0m\u001b[0m\n\u001b[1;32m---> 89\u001b[1;33m         \u001b[1;32mraise\u001b[0m \u001b[0mToolkitError\u001b[0m\u001b[1;33m(\u001b[0m\u001b[0mstr\u001b[0m\u001b[1;33m(\u001b[0m\u001b[0mmessage\u001b[0m\u001b[1;33m)\u001b[0m\u001b[1;33m)\u001b[0m\u001b[1;33m\u001b[0m\u001b[0m\n\u001b[0m",
      "\u001b[1;31mToolkitError\u001b[0m: Target column given as 'rating', but this is not present in the provided data."
     ]
    }
   ],
   "source": [
    "import io, os, sys, types\n",
    "import graphlab as gl\n",
    "from datetime import datetime\n",
    "from os import path\n",
    "import numpy as np\n",
    "import import_ipynb\n",
    "from decimal import *\n",
    "import Conn_E_SQL as Conn\n",
    "import Creacion_Vectores as C_V\n",
    "import Normalizacion as Norm\n",
    "from collections import OrderedDict\n",
    "import operator\n",
    "\n",
    "#Atributos de BD\n",
    "host=\"recomdb.c4v5c6aergun.us-west-2.rds.amazonaws.com\"\n",
    "user=\"imaginex\"\n",
    "passwd=\"6^b{X2Du)Qf6\"\n",
    "database=\"RecomDB\"\n",
    "table= \"CBF\"\n",
    "\n",
    "#Atributos de XML o consola\n",
    "\n",
    "print (\"Quieres ver apartamentos fuera de tu zona de escogencia?\")\n",
    "visualization=int(input())\n",
    "Type=2\n",
    "\n",
    "#Atributos de Vivienda\n",
    "\n",
    "Vector_BD_Vivienda= Conn.Conexion_BD(host,user,passwd,database,table)\n",
    "apartment_file_processed= gl.SFrame(C_V.Creacion_Vector_Apartamento(Vector_BD_Vivienda))\n",
    "apartment_file_normalized=gl.SFrame(Norm.norm_apartment_matrix(apartment_file_processed))\n",
    "Vector_IDF=[]\n",
    "Vector_IDF=Norm.Inv_DF(apartment_file_processed)\n",
    "\n",
    "#Atributos de Clientes\n",
    "\n",
    "clientfile=\"C:\\\\Users\\\\user\\\\Documents\\\\Sistema de Recomendacion\\\\Single_Client_raw.csv\"\n",
    "client_file_processed=gl.SFrame(C_V.Creacion_Vector_Cliente(clientfile))\n",
    "client_array=client_file_processed[\"ID_C\"]\n",
    "client_number=client_array[0]\n",
    "zona_array=client_file_processed[\"Zona\"]\n",
    "zona_number=zona_array[0]\n",
    "\n",
    "#Atributos de Rating\n",
    "\n",
    "Vector_Ratings_BD=Conn.Conexion_BD_rating(client_number, host, user, passwd, database, table)\n",
    "client_rating=C_V.Creacion_Matrix_Rating(Vector_Ratings_BD)\n",
    "\n",
    "#Atributos de Ratings\n",
    "\n",
    "#Vector_Ratings_BD=Conn.Conexion_BD_ratings(host, user, passwd, database, table)\n",
    "#clients_ratings=C_V.Creacion_Matrix_Rating(Vector_Ratings_BD)\n",
    "\n",
    "class recommenders:\n",
    "    \n",
    "    def item_ranking (self, apartment_file_processed,client_file_processed,client_rating,visualization):\n",
    "        \n",
    "        #Creacion de SFrames\n",
    "        \n",
    "        recommender_matrix=gl.SFrame()\n",
    "        \n",
    "        #Asignacion de Arrays\n",
    "        client_array=client_file_processed[\"ID_C\"]\n",
    "        client_number=client_array[0]\n",
    "        zona_array=client_file_processed[\"Zona\"]\n",
    "        client_zona=zona_array[0]\n",
    "        \n",
    "        #Visualizacion por Zona\n",
    "        if (visualization==0):\n",
    "            apartment_file_processed=apartment_file_processed[apartment_file_processed[\"Zona\"] == client_zona]\n",
    "        \n",
    "        #Creacion de Modelo de Recomendacion por factorizacion\n",
    "                       \n",
    "        apartment_fact_recommender= gl.ranking_factorization_recommender.create(client_rating,user_id=\"ID_C\",item_id=\"ID_V\",target=\"rating\",\n",
    "                                                                            user_data=client_file_processed,\n",
    "                                                                            item_data=apartment_file_processed,\n",
    "                                                                            ranking_regularization = 0.1,\n",
    "                                                                            unobserved_rating_value = 1)   \n",
    "                                                                            \n",
    "        \n",
    "              \n",
    "        recommender_matrix=apartment_fact_recommender.recommend([client_number])\n",
    "        recommender_matrix.remove_column('rank')\n",
    "        \n",
    "        return recommender_matrix.topk('score', k=20)\n",
    "    \n",
    "    def collaborative_ranking (self, apartment_file_processed,clients_file_processed,clients_rating,visualization):\n",
    "         \n",
    "        print (\"Ingresa la zona donde quieres ver las viviendas que compran personas parecidas a tu perfil?\")\n",
    "        zona=int(input())\n",
    "        client_number=10\n",
    "        \n",
    "        #Creacion de SFrames\n",
    "        \n",
    "        recommender_matrix=gl.SFrame()\n",
    "                    \n",
    "        #Visualizacion por Zona\n",
    "        if (visualization==0):\n",
    "            apartment_file_processed=apartment_file_processed[apartment_file_processed[\"Zona\"] == zona]\n",
    "        \n",
    "        #Creacion de Modelo de Recomendacion por Colaboracion\n",
    "                       \n",
    "        apartment_collaborative_recommender= gl.item_similarity_recommender.create(clients_rating,user_id=\"ID_C\",item_id=\"ID_V\",target=\"Rating\",\n",
    "                                                                            user_data=clients_file_processed,\n",
    "                                                                            item_data=apartment_file_processed)   \n",
    "                                                                            \n",
    "        \n",
    "              \n",
    "        recommender_matrix=apartment_collaborative_recommender.recommend([client_number])\n",
    "                                                   \n",
    "        return recommender_matrix.topk('score', k=20)\n",
    "    \n",
    "    def non_personalized_ranking (self, apartment_file_processed,clients_file_processed,clients_rating, client_number):\n",
    "        \n",
    "        print (\"Ingresa la zona donde quieres ver las viviendas mas populares ?\")\n",
    "        zona=int(input())\n",
    "                \n",
    "        #Creacion de SFrames\n",
    "        \n",
    "        recommender_matrix=gl.SFrame()\n",
    "        clients_ratings_zone=gl.SFrame()        \n",
    "        \n",
    "        #Visualizacion por Zona\n",
    "        apartment_file_processed=apartment_file_processed[apartment_file_processed[\"Zona\"] == zona]\n",
    "        zonas_ID= apartment_file_processed[\"ID_V\"]\n",
    "                \n",
    "        #Modificacion de la matriz client\n",
    "        \n",
    "        clients_ratings_zone=clients_rating.filter_by(zonas_ID, 'ID_V')\n",
    "        \n",
    "              \n",
    "        #Creacion de Modelo de Recomendacion por Colaboracion\n",
    "                       \n",
    "        apartment_popularity_recommender= gl.recommender.popularity_recommender.create(clients_ratings_zone,user_id=\"ID_C\",item_id=\"ID_V\",target=\"Rating\",\n",
    "                                                                            user_data=clients_file_processed,\n",
    "                                                                            item_data=apartment_file_processed)   \n",
    "                                                                            \n",
    "        \n",
    "              \n",
    "        recommender_matrix=apartment_popularity_recommender.recommend([client_number])\n",
    "        recommender_matrix=recommender_matrix.remove_column(\"ID_C\")\n",
    "        return recommender_matrix.topk('score', k=20)\n",
    "    \n",
    "d=recommenders()\n",
    "#e=recommenders()\n",
    "#f=recommenders()\n",
    "d.item_ranking(apartment_file_processed,client_file_processed,client_rating,visualization)\n",
    "#e.collaborative_ranking(apartment_file_processed,clients_file_processed,clients_rating,visualization)\n",
    "#f.non_personalized_ranking(apartment_file_processed,clients_file_processed,clients_rating)"
   ]
  },
  {
   "cell_type": "code",
   "execution_count": null,
   "metadata": {
    "collapsed": true
   },
   "outputs": [],
   "source": []
  },
  {
   "cell_type": "code",
   "execution_count": null,
   "metadata": {
    "collapsed": true
   },
   "outputs": [],
   "source": []
  }
 ],
 "metadata": {
  "kernelspec": {
   "display_name": "Python 2",
   "language": "python",
   "name": "python2"
  },
  "language_info": {
   "codemirror_mode": {
    "name": "ipython",
    "version": 2
   },
   "file_extension": ".py",
   "mimetype": "text/x-python",
   "name": "python",
   "nbconvert_exporter": "python",
   "pygments_lexer": "ipython2",
   "version": "2.7.11"
  }
 },
 "nbformat": 4,
 "nbformat_minor": 0
}
